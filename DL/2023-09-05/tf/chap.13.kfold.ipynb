{
 "cells": [
  {
   "cell_type": "code",
   "execution_count": 1,
   "id": "9ac2cc5f",
   "metadata": {},
   "outputs": [],
   "source": [
    "import pandas as pd\n",
    "from tensorflow.keras import models, layers\n",
    "from sklearn.model_selection import KFold"
   ]
  },
  {
   "cell_type": "code",
   "execution_count": 2,
   "id": "2a670095",
   "metadata": {},
   "outputs": [],
   "source": [
    "df = pd.read_csv('data/sonar3.csv', header=None)\n",
    "X = df.iloc[:, :-1]\n",
    "y = df.iloc[:, -1]"
   ]
  },
  {
   "cell_type": "code",
   "execution_count": 3,
   "id": "96acde53",
   "metadata": {},
   "outputs": [],
   "source": [
    "k = 5\n",
    "\n",
    "kfold = KFold(n_splits=k, shuffle=True)\n",
    "\n",
    "acc_score = []"
   ]
  },
  {
   "cell_type": "code",
   "execution_count": 4,
   "id": "b8ff54b8",
   "metadata": {},
   "outputs": [],
   "source": [
    "def model_fn():\n",
    "    model = models.Sequential()\n",
    "    model.add(layers.Dense(24, input_dim=60, activation='relu'))\n",
    "    model.add(layers.Dense(10, activation='relu'))\n",
    "    model.add(layers.Dense(1, activation='sigmoid'))\n",
    "    return model"
   ]
  },
  {
   "cell_type": "code",
   "execution_count": 5,
   "id": "ea20fb97",
   "metadata": {},
   "outputs": [
    {
     "name": "stdout",
     "output_type": "stream",
     "text": [
      "2/2 [==============================] - 0s 3ms/step - loss: 0.4202 - accuracy: 0.8810\n",
      "2/2 [==============================] - 0s 2ms/step - loss: 0.5874 - accuracy: 0.7857\n",
      "2/2 [==============================] - 0s 2ms/step - loss: 0.6674 - accuracy: 0.7857\n",
      "2/2 [==============================] - 0s 3ms/step - loss: 0.6162 - accuracy: 0.8049\n",
      "WARNING:tensorflow:5 out of the last 9 calls to <function Model.make_test_function.<locals>.test_function at 0x0000023EBFA080D0> triggered tf.function retracing. Tracing is expensive and the excessive number of tracings could be due to (1) creating @tf.function repeatedly in a loop, (2) passing tensors with different shapes, (3) passing Python objects instead of tensors. For (1), please define your @tf.function outside of the loop. For (2), @tf.function has reduce_retracing=True option that can avoid unnecessary retracing. For (3), please refer to https://www.tensorflow.org/guide/function#controlling_retracing and https://www.tensorflow.org/api_docs/python/tf/function for  more details.\n",
      "2/2 [==============================] - 0s 2ms/step - loss: 0.8513 - accuracy: 0.8293\n"
     ]
    }
   ],
   "source": [
    "for train_index, test_index in kfold.split(X):\n",
    "    X_train, X_test = X.iloc[train_index, :], X.iloc[test_index, :]\n",
    "    y_train, y_test = y.iloc[train_index], y.iloc[test_index]\n",
    "    \n",
    "    model = model_fn()\n",
    "    model.compile(loss='binary_crossentropy', optimizer='adam', metrics=['accuracy'])\n",
    "    history = model.fit(X_train, y_train, epochs=200, batch_size=10, verbose=0)  # verbose=0? 중간 과정 출력 안 함\n",
    "    \n",
    "    accuracy = model.evaluate(X_test, y_test)[1]\n",
    "    acc_score.append(accuracy)"
   ]
  },
  {
   "cell_type": "code",
   "execution_count": 9,
   "id": "48f0ca28",
   "metadata": {},
   "outputs": [
    {
     "name": "stdout",
     "output_type": "stream",
     "text": [
      "Accuracy: [0.8809523582458496, 0.7857142686843872, 0.7857142686843872, 0.8048780560493469, 0.8292682766914368]\n",
      "Average accuracy: 0.8173054456710815\n"
     ]
    }
   ],
   "source": [
    "avg_acc_score = sum(acc_score) / k\n",
    "print('Accuracy:', acc_score)\n",
    "print('Average accuracy:', avg_acc_score)"
   ]
  }
 ],
 "metadata": {
  "kernelspec": {
   "display_name": "Python 3 (ipykernel)",
   "language": "python",
   "name": "python3"
  },
  "language_info": {
   "codemirror_mode": {
    "name": "ipython",
    "version": 3
   },
   "file_extension": ".py",
   "mimetype": "text/x-python",
   "name": "python",
   "nbconvert_exporter": "python",
   "pygments_lexer": "ipython3",
   "version": "3.9.17"
  }
 },
 "nbformat": 4,
 "nbformat_minor": 5
}
