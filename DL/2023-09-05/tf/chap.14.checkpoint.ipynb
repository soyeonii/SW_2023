{
 "cells": [
  {
   "cell_type": "code",
   "execution_count": 1,
   "id": "3ea4e05c",
   "metadata": {},
   "outputs": [],
   "source": [
    "from tensorflow.keras import models, layers\n",
    "from sklearn.model_selection import train_test_split\n",
    "import pandas as pd\n",
    "from tensorflow.keras.callbacks import ModelCheckpoint\n",
    "\n",
    "import os"
   ]
  },
  {
   "cell_type": "code",
   "execution_count": 26,
   "id": "ff373d17",
   "metadata": {},
   "outputs": [],
   "source": [
    "df = pd.read_csv('data/wine.csv', header=None)\n",
    "X = df.iloc[:, :-1]\n",
    "y = df.iloc[:, -1]\n",
    "X_train, X_test, y_train, y_test = train_test_split(X, y, test_size=0.2, shuffle=True)"
   ]
  },
  {
   "cell_type": "code",
   "execution_count": 3,
   "id": "6680064b",
   "metadata": {},
   "outputs": [],
   "source": [
    "model = models.Sequential()\n",
    "model.add(layers.Dense(30, input_dim=12, activation='relu'))\n",
    "model.add(layers.Dense(12, activation='relu'))\n",
    "model.add(layers.Dense(8, activation='relu'))\n",
    "model.add(layers.Dense(1, activation='sigmoid'))"
   ]
  },
  {
   "cell_type": "code",
   "execution_count": 4,
   "id": "afc9c905",
   "metadata": {},
   "outputs": [],
   "source": [
    "model.compile(loss='binary_crossentropy', optimizer='adam', metrics=['accuracy'])"
   ]
  },
  {
   "cell_type": "code",
   "execution_count": 5,
   "id": "fa00bf0e",
   "metadata": {},
   "outputs": [],
   "source": [
    "MODEL_DIR = 'model/'\n",
    "\n",
    "if not os.path.exists(MODEL_DIR):\n",
    "    os.mkdir(MODEL_DIR)\n",
    "    \n",
    "modelpath = MODEL_DIR + '{epoch:02d}-{val_accuracy:.4f}.hdf5'\n",
    "\n",
    "checkpoint = ModelCheckpoint(filepath=modelpath, verbose=1)"
   ]
  },
  {
   "cell_type": "code",
   "execution_count": 6,
   "id": "d4f5a2e7",
   "metadata": {
    "scrolled": true
   },
   "outputs": [
    {
     "name": "stdout",
     "output_type": "stream",
     "text": [
      "\n",
      "Epoch 1: saving model to model\\01-0.8977.hdf5\n",
      "\n",
      "Epoch 2: saving model to model\\02-0.8400.hdf5\n",
      "\n",
      "Epoch 3: saving model to model\\03-0.9123.hdf5\n",
      "\n",
      "Epoch 4: saving model to model\\04-0.9215.hdf5\n",
      "\n",
      "Epoch 5: saving model to model\\05-0.9077.hdf5\n",
      "\n",
      "Epoch 6: saving model to model\\06-0.9292.hdf5\n",
      "\n",
      "Epoch 7: saving model to model\\07-0.9308.hdf5\n",
      "\n",
      "Epoch 8: saving model to model\\08-0.9354.hdf5\n",
      "\n",
      "Epoch 9: saving model to model\\09-0.9331.hdf5\n",
      "\n",
      "Epoch 10: saving model to model\\10-0.9331.hdf5\n",
      "\n",
      "Epoch 11: saving model to model\\11-0.9315.hdf5\n",
      "\n",
      "Epoch 12: saving model to model\\12-0.9292.hdf5\n",
      "\n",
      "Epoch 13: saving model to model\\13-0.9308.hdf5\n",
      "\n",
      "Epoch 14: saving model to model\\14-0.9300.hdf5\n",
      "\n",
      "Epoch 15: saving model to model\\15-0.9354.hdf5\n",
      "\n",
      "Epoch 16: saving model to model\\16-0.9338.hdf5\n",
      "\n",
      "Epoch 17: saving model to model\\17-0.9315.hdf5\n",
      "\n",
      "Epoch 18: saving model to model\\18-0.9338.hdf5\n",
      "\n",
      "Epoch 19: saving model to model\\19-0.9323.hdf5\n",
      "\n",
      "Epoch 20: saving model to model\\20-0.9362.hdf5\n",
      "\n",
      "Epoch 21: saving model to model\\21-0.9354.hdf5\n",
      "\n",
      "Epoch 22: saving model to model\\22-0.9377.hdf5\n",
      "\n",
      "Epoch 23: saving model to model\\23-0.9369.hdf5\n",
      "\n",
      "Epoch 24: saving model to model\\24-0.9377.hdf5\n",
      "\n",
      "Epoch 25: saving model to model\\25-0.9362.hdf5\n",
      "\n",
      "Epoch 26: saving model to model\\26-0.9400.hdf5\n",
      "\n",
      "Epoch 27: saving model to model\\27-0.9385.hdf5\n",
      "\n",
      "Epoch 28: saving model to model\\28-0.9392.hdf5\n",
      "\n",
      "Epoch 29: saving model to model\\29-0.9400.hdf5\n",
      "\n",
      "Epoch 30: saving model to model\\30-0.9400.hdf5\n",
      "\n",
      "Epoch 31: saving model to model\\31-0.9408.hdf5\n",
      "\n",
      "Epoch 32: saving model to model\\32-0.9392.hdf5\n",
      "\n",
      "Epoch 33: saving model to model\\33-0.9408.hdf5\n",
      "\n",
      "Epoch 34: saving model to model\\34-0.9400.hdf5\n",
      "\n",
      "Epoch 35: saving model to model\\35-0.9438.hdf5\n",
      "\n",
      "Epoch 36: saving model to model\\36-0.9446.hdf5\n",
      "\n",
      "Epoch 37: saving model to model\\37-0.9431.hdf5\n",
      "\n",
      "Epoch 38: saving model to model\\38-0.9400.hdf5\n",
      "\n",
      "Epoch 39: saving model to model\\39-0.9400.hdf5\n",
      "\n",
      "Epoch 40: saving model to model\\40-0.9408.hdf5\n",
      "\n",
      "Epoch 41: saving model to model\\41-0.9454.hdf5\n",
      "\n",
      "Epoch 42: saving model to model\\42-0.9431.hdf5\n",
      "\n",
      "Epoch 43: saving model to model\\43-0.9415.hdf5\n",
      "\n",
      "Epoch 44: saving model to model\\44-0.9408.hdf5\n",
      "\n",
      "Epoch 45: saving model to model\\45-0.9408.hdf5\n",
      "\n",
      "Epoch 46: saving model to model\\46-0.9423.hdf5\n",
      "\n",
      "Epoch 47: saving model to model\\47-0.9462.hdf5\n",
      "\n",
      "Epoch 48: saving model to model\\48-0.9423.hdf5\n",
      "\n",
      "Epoch 49: saving model to model\\49-0.9415.hdf5\n",
      "\n",
      "Epoch 50: saving model to model\\50-0.9431.hdf5\n"
     ]
    }
   ],
   "source": [
    "history = model.fit(X_train, y_train, epochs=50, batch_size=500, validation_split=0.25, verbose=0, callbacks=[checkpoint])"
   ]
  },
  {
   "cell_type": "code",
   "execution_count": 12,
   "id": "c51fe974",
   "metadata": {},
   "outputs": [
    {
     "name": "stdout",
     "output_type": "stream",
     "text": [
      "41/41 [==============================] - 0s 1ms/step - loss: 0.1511 - accuracy: 0.9369\n",
      "Test Accuracy: 0.9369\n"
     ]
    }
   ],
   "source": [
    "score = model.evaluate(X_test, y_test)\n",
    "print('Test Accuracy: %.4f' % score[1])"
   ]
  },
  {
   "cell_type": "code",
   "execution_count": 27,
   "id": "f4b6abde",
   "metadata": {},
   "outputs": [],
   "source": [
    "model = models.Sequential()\n",
    "model.add(layers.Dense(30, input_dim=12, activation='relu'))\n",
    "model.add(layers.Dense(12, activation='relu'))\n",
    "model.add(layers.Dense(8, activation='relu'))\n",
    "model.add(layers.Dense(1, activation='sigmoid'))\n",
    "\n",
    "model.compile(loss='binary_crossentropy', optimizer='adam', metrics=['accuracy'])"
   ]
  },
  {
   "cell_type": "code",
   "execution_count": 28,
   "id": "cfca2e31",
   "metadata": {},
   "outputs": [],
   "source": [
    "import matplotlib.pyplot as plt"
   ]
  },
  {
   "cell_type": "code",
   "execution_count": 29,
   "id": "d61e807e",
   "metadata": {},
   "outputs": [],
   "source": [
    "history = model.fit(X_train, y_train, epochs=2000, batch_size=500, validation_split=0.25, verbose=0)"
   ]
  },
  {
   "cell_type": "code",
   "execution_count": 30,
   "id": "e35759bf",
   "metadata": {},
   "outputs": [
    {
     "data": {
      "text/html": [
       "<div>\n",
       "<style scoped>\n",
       "    .dataframe tbody tr th:only-of-type {\n",
       "        vertical-align: middle;\n",
       "    }\n",
       "\n",
       "    .dataframe tbody tr th {\n",
       "        vertical-align: top;\n",
       "    }\n",
       "\n",
       "    .dataframe thead th {\n",
       "        text-align: right;\n",
       "    }\n",
       "</style>\n",
       "<table border=\"1\" class=\"dataframe\">\n",
       "  <thead>\n",
       "    <tr style=\"text-align: right;\">\n",
       "      <th></th>\n",
       "      <th>loss</th>\n",
       "      <th>accuracy</th>\n",
       "      <th>val_loss</th>\n",
       "      <th>val_accuracy</th>\n",
       "    </tr>\n",
       "  </thead>\n",
       "  <tbody>\n",
       "    <tr>\n",
       "      <th>0</th>\n",
       "      <td>0.729247</td>\n",
       "      <td>0.472928</td>\n",
       "      <td>0.491591</td>\n",
       "      <td>0.731538</td>\n",
       "    </tr>\n",
       "    <tr>\n",
       "      <th>1</th>\n",
       "      <td>0.472035</td>\n",
       "      <td>0.738260</td>\n",
       "      <td>0.425322</td>\n",
       "      <td>0.769231</td>\n",
       "    </tr>\n",
       "    <tr>\n",
       "      <th>2</th>\n",
       "      <td>0.432656</td>\n",
       "      <td>0.771876</td>\n",
       "      <td>0.352781</td>\n",
       "      <td>0.827692</td>\n",
       "    </tr>\n",
       "    <tr>\n",
       "      <th>3</th>\n",
       "      <td>0.338998</td>\n",
       "      <td>0.846805</td>\n",
       "      <td>0.271435</td>\n",
       "      <td>0.902308</td>\n",
       "    </tr>\n",
       "    <tr>\n",
       "      <th>4</th>\n",
       "      <td>0.290864</td>\n",
       "      <td>0.888889</td>\n",
       "      <td>0.266801</td>\n",
       "      <td>0.906154</td>\n",
       "    </tr>\n",
       "  </tbody>\n",
       "</table>\n",
       "</div>"
      ],
      "text/plain": [
       "       loss  accuracy  val_loss  val_accuracy\n",
       "0  0.729247  0.472928  0.491591      0.731538\n",
       "1  0.472035  0.738260  0.425322      0.769231\n",
       "2  0.432656  0.771876  0.352781      0.827692\n",
       "3  0.338998  0.846805  0.271435      0.902308\n",
       "4  0.290864  0.888889  0.266801      0.906154"
      ]
     },
     "execution_count": 30,
     "metadata": {},
     "output_type": "execute_result"
    }
   ],
   "source": [
    "hist_df = pd.DataFrame(history.history)\n",
    "hist_df.head()"
   ]
  },
  {
   "cell_type": "code",
   "execution_count": 31,
   "id": "77ac2c36",
   "metadata": {},
   "outputs": [
    {
     "name": "stdout",
     "output_type": "stream",
     "text": [
      "<class 'pandas.core.frame.DataFrame'>\n",
      "RangeIndex: 2000 entries, 0 to 1999\n",
      "Data columns (total 4 columns):\n",
      " #   Column        Non-Null Count  Dtype  \n",
      "---  ------        --------------  -----  \n",
      " 0   loss          2000 non-null   float64\n",
      " 1   accuracy      2000 non-null   float64\n",
      " 2   val_loss      2000 non-null   float64\n",
      " 3   val_accuracy  2000 non-null   float64\n",
      "dtypes: float64(4)\n",
      "memory usage: 62.6 KB\n"
     ]
    }
   ],
   "source": [
    "hist_df.info()"
   ]
  },
  {
   "cell_type": "code",
   "execution_count": 32,
   "id": "e395e71e",
   "metadata": {},
   "outputs": [
    {
     "data": {
      "image/png": "[encoded data removed]",
      "text/plain": [
       "<Figure size 640x480 with 1 Axes>"
      ]
     },
     "metadata": {},
     "output_type": "display_data"
    }
   ],
   "source": [
    "import numpy as np\n",
    "\n",
    "y_vloss = hist_df['val_loss']\n",
    "y_loss = hist_df['loss']\n",
    "\n",
    "x_len = np.arange(len(y_loss))\n",
    "\n",
    "plt.plot(x_len, y_vloss, 'o', c='red', markersize=2, label='Test_loss')\n",
    "plt.plot(x_len, y_loss, 'o', c='blue', markersize=2, label='Train_loss')\n",
    "plt.legend()\n",
    "plt.xlabel('epochs')\n",
    "plt.ylabel('loss')\n",
    "plt.show()"
   ]
  }
 ],
 "metadata": {
  "kernelspec": {
   "display_name": "Python 3 (ipykernel)",
   "language": "python",
   "name": "python3"
  },
  "language_info": {
   "codemirror_mode": {
    "name": "ipython",
    "version": 3
   },
   "file_extension": ".py",
   "mimetype": "text/x-python",
   "name": "python",
   "nbconvert_exporter": "python",
   "pygments_lexer": "ipython3",
   "version": "3.9.17"
  }
 },
 "nbformat": 4,
 "nbformat_minor": 5
}
