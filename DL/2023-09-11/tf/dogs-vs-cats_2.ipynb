{
 "cells": [
  {
   "cell_type": "code",
   "execution_count": 1,
   "id": "367333ed",
   "metadata": {},
   "outputs": [],
   "source": [
    "train_dir = 'data/dogs-vs-cats/train'\n",
    "test_dir = 'data/dogs-vs-cats/test'"
   ]
  },
  {
   "cell_type": "code",
   "execution_count": 2,
   "id": "8bf8f2b2",
   "metadata": {},
   "outputs": [],
   "source": [
    "from tensorflow.keras import models, layers, optimizers\n",
    "from tensorflow.keras.preprocessing.image import ImageDataGenerator\n",
    "from tensorflow.keras.callbacks import EarlyStopping, ModelCheckpoint\n",
    "from tensorflow.keras.applications import VGG16\n",
    "import numpy as np\n",
    "import matplotlib.pyplot as plt\n",
    "import os\n",
    "\n",
    "os.environ['KMP_DUPLICATE_LIB_OK'] = '1'"
   ]
  },
  {
   "cell_type": "code",
   "execution_count": 3,
   "id": "63e1379c",
   "metadata": {},
   "outputs": [
    {
     "name": "stdout",
     "output_type": "stream",
     "text": [
      "Found 20000 images belonging to 2 classes.\n",
      "Found 5000 images belonging to 2 classes.\n"
     ]
    }
   ],
   "source": [
    "train_datagen = ImageDataGenerator(\n",
    "    rescale=1./255,\n",
    "    horizontal_flip = True,\n",
    "    width_shift_range=0.1,\n",
    "    height_shift_range=0.1,\n",
    ")\n",
    "train_generator = train_datagen.flow_from_directory(\n",
    "    train_dir,\n",
    "    target_size=(150, 150),\n",
    "    batch_size=20,\n",
    "    class_mode='binary'\n",
    ")\n",
    "\n",
    "test_datagen = ImageDataGenerator(rescale=1./255)\n",
    "test_generator = test_datagen.flow_from_directory(\n",
    "    test_dir,\n",
    "    target_size=(150, 150),\n",
    "    batch_size=20,\n",
    "    class_mode='binary'\n",
    ")"
   ]
  },
  {
   "cell_type": "code",
   "execution_count": 4,
   "id": "40152447",
   "metadata": {},
   "outputs": [
    {
     "name": "stdout",
     "output_type": "stream",
     "text": [
      "Model: \"vgg16\"\n",
      "_________________________________________________________________\n",
      " Layer (type)                Output Shape              Param #   \n",
      "=================================================================\n",
      " input_1 (InputLayer)        [(None, 150, 150, 3)]     0         \n",
      "                                                                 \n",
      " block1_conv1 (Conv2D)       (None, 150, 150, 64)      1792      \n",
      "                                                                 \n",
      " block1_conv2 (Conv2D)       (None, 150, 150, 64)      36928     \n",
      "                                                                 \n",
      " block1_pool (MaxPooling2D)  (None, 75, 75, 64)        0         \n",
      "                                                                 \n",
      " block2_conv1 (Conv2D)       (None, 75, 75, 128)       73856     \n",
      "                                                                 \n",
      " block2_conv2 (Conv2D)       (None, 75, 75, 128)       147584    \n",
      "                                                                 \n",
      " block2_pool (MaxPooling2D)  (None, 37, 37, 128)       0         \n",
      "                                                                 \n",
      " block3_conv1 (Conv2D)       (None, 37, 37, 256)       295168    \n",
      "                                                                 \n",
      " block3_conv2 (Conv2D)       (None, 37, 37, 256)       590080    \n",
      "                                                                 \n",
      " block3_conv3 (Conv2D)       (None, 37, 37, 256)       590080    \n",
      "                                                                 \n",
      " block3_pool (MaxPooling2D)  (None, 18, 18, 256)       0         \n",
      "                                                                 \n",
      " block4_conv1 (Conv2D)       (None, 18, 18, 512)       1180160   \n",
      "                                                                 \n",
      " block4_conv2 (Conv2D)       (None, 18, 18, 512)       2359808   \n",
      "                                                                 \n",
      " block4_conv3 (Conv2D)       (None, 18, 18, 512)       2359808   \n",
      "                                                                 \n",
      " block4_pool (MaxPooling2D)  (None, 9, 9, 512)         0         \n",
      "                                                                 \n",
      " block5_conv1 (Conv2D)       (None, 9, 9, 512)         2359808   \n",
      "                                                                 \n",
      " block5_conv2 (Conv2D)       (None, 9, 9, 512)         2359808   \n",
      "                                                                 \n",
      " block5_conv3 (Conv2D)       (None, 9, 9, 512)         2359808   \n",
      "                                                                 \n",
      " block5_pool (MaxPooling2D)  (None, 4, 4, 512)         0         \n",
      "                                                                 \n",
      "=================================================================\n",
      "Total params: 14,714,688\n",
      "Trainable params: 0\n",
      "Non-trainable params: 14,714,688\n",
      "_________________________________________________________________\n"
     ]
    }
   ],
   "source": [
    "transfer_model = VGG16(weights='imagenet', include_top=False, input_shape=(150, 150, 3))\n",
    "transfer_model.trainable = False\n",
    "transfer_model.summary()"
   ]
  },
  {
   "cell_type": "code",
   "execution_count": 5,
   "id": "a82f36d8",
   "metadata": {},
   "outputs": [
    {
     "name": "stdout",
     "output_type": "stream",
     "text": [
      "Model: \"sequential\"\n",
      "_________________________________________________________________\n",
      " Layer (type)                Output Shape              Param #   \n",
      "=================================================================\n",
      " vgg16 (Functional)          (None, 4, 4, 512)         14714688  \n",
      "                                                                 \n",
      " flatten (Flatten)           (None, 8192)              0         \n",
      "                                                                 \n",
      " dropout (Dropout)           (None, 8192)              0         \n",
      "                                                                 \n",
      " dense (Dense)               (None, 512)               4194816   \n",
      "                                                                 \n",
      " dense_1 (Dense)             (None, 1)                 513       \n",
      "                                                                 \n",
      "=================================================================\n",
      "Total params: 18,910,017\n",
      "Trainable params: 4,195,329\n",
      "Non-trainable params: 14,714,688\n",
      "_________________________________________________________________\n"
     ]
    }
   ],
   "source": [
    "finetune_model = models.Sequential()\n",
    "finetune_model.add(transfer_model)\n",
    "finetune_model.add(layers.Flatten())\n",
    "finetune_model.add(layers.Dropout(0.5))\n",
    "finetune_model.add(layers.Dense(512, activation='relu'))\n",
    "finetune_model.add(layers.Dense(1, activation='sigmoid'))\n",
    "finetune_model.summary()"
   ]
  },
  {
   "cell_type": "code",
   "execution_count": 6,
   "id": "3f7c5487",
   "metadata": {},
   "outputs": [],
   "source": [
    "finetune_model.compile(loss='binary_crossentropy', optimizer=optimizers.Adam(learning_rate=0.0002), metrics=['accuracy'])"
   ]
  },
  {
   "cell_type": "code",
   "execution_count": 7,
   "id": "844aa20d",
   "metadata": {},
   "outputs": [],
   "source": [
    "early_stopping = EarlyStopping(monitor='val_loss', patience=5)\n",
    "modelpath = 'model/dogs-vs-cats_2.hdf5'\n",
    "checkpoint = ModelCheckpoint(filepath=modelpath, monitor='val_loss', verbos=0, save_best_only=True)"
   ]
  },
  {
   "cell_type": "code",
   "execution_count": 8,
   "id": "0f65b87e",
   "metadata": {},
   "outputs": [
    {
     "name": "stdout",
     "output_type": "stream",
     "text": [
      "Epoch 1/30\n",
      "1000/1000 [==============================] - 578s 578ms/step - loss: 0.3448 - accuracy: 0.8468 - val_loss: 0.2378 - val_accuracy: 0.9004\n",
      "Epoch 2/30\n",
      "1000/1000 [==============================] - 578s 578ms/step - loss: 0.2905 - accuracy: 0.8717 - val_loss: 0.2264 - val_accuracy: 0.9100\n",
      "Epoch 3/30\n",
      "1000/1000 [==============================] - 572s 572ms/step - loss: 0.2761 - accuracy: 0.8777 - val_loss: 0.2416 - val_accuracy: 0.8922\n",
      "Epoch 4/30\n",
      "1000/1000 [==============================] - 582s 582ms/step - loss: 0.2640 - accuracy: 0.8860 - val_loss: 0.2204 - val_accuracy: 0.9056\n",
      "Epoch 5/30\n",
      "1000/1000 [==============================] - 1361s 1s/step - loss: 0.2584 - accuracy: 0.8885 - val_loss: 0.2067 - val_accuracy: 0.9132\n",
      "Epoch 6/30\n",
      "1000/1000 [==============================] - 1139s 1s/step - loss: 0.2459 - accuracy: 0.8924 - val_loss: 0.2086 - val_accuracy: 0.9082\n",
      "Epoch 7/30\n",
      "1000/1000 [==============================] - 1644s 2s/step - loss: 0.2408 - accuracy: 0.8951 - val_loss: 0.2045 - val_accuracy: 0.9138\n",
      "Epoch 8/30\n",
      "1000/1000 [==============================] - 839s 839ms/step - loss: 0.2307 - accuracy: 0.9023 - val_loss: 0.2038 - val_accuracy: 0.9146\n",
      "Epoch 9/30\n",
      "1000/1000 [==============================] - 871s 872ms/step - loss: 0.2279 - accuracy: 0.9013 - val_loss: 0.2123 - val_accuracy: 0.9036\n",
      "Epoch 10/30\n",
      "1000/1000 [==============================] - 1667s 2s/step - loss: 0.2235 - accuracy: 0.9044 - val_loss: 0.1992 - val_accuracy: 0.9164\n",
      "Epoch 11/30\n",
      "1000/1000 [==============================] - 581s 581ms/step - loss: 0.2182 - accuracy: 0.9065 - val_loss: 0.1934 - val_accuracy: 0.9212\n",
      "Epoch 12/30\n",
      "1000/1000 [==============================] - 578s 578ms/step - loss: 0.2101 - accuracy: 0.9086 - val_loss: 0.2011 - val_accuracy: 0.9168\n",
      "Epoch 13/30\n",
      "1000/1000 [==============================] - 567s 567ms/step - loss: 0.2091 - accuracy: 0.9101 - val_loss: 0.1966 - val_accuracy: 0.9146\n",
      "Epoch 14/30\n",
      "1000/1000 [==============================] - 568s 568ms/step - loss: 0.2018 - accuracy: 0.9136 - val_loss: 0.2155 - val_accuracy: 0.9132\n",
      "Epoch 15/30\n",
      "1000/1000 [==============================] - 569s 569ms/step - loss: 0.1972 - accuracy: 0.9160 - val_loss: 0.1883 - val_accuracy: 0.9246\n",
      "Epoch 16/30\n",
      "1000/1000 [==============================] - 568s 568ms/step - loss: 0.1940 - accuracy: 0.9191 - val_loss: 0.1917 - val_accuracy: 0.9214\n",
      "Epoch 17/30\n",
      "1000/1000 [==============================] - 576s 576ms/step - loss: 0.1868 - accuracy: 0.9199 - val_loss: 0.1878 - val_accuracy: 0.9252\n",
      "Epoch 18/30\n",
      "1000/1000 [==============================] - 564s 564ms/step - loss: 0.1836 - accuracy: 0.9227 - val_loss: 0.1863 - val_accuracy: 0.9264\n",
      "Epoch 19/30\n",
      "1000/1000 [==============================] - 567s 567ms/step - loss: 0.1806 - accuracy: 0.9235 - val_loss: 0.1925 - val_accuracy: 0.9200\n",
      "Epoch 20/30\n",
      "1000/1000 [==============================] - 580s 580ms/step - loss: 0.1743 - accuracy: 0.9253 - val_loss: 0.1903 - val_accuracy: 0.9222\n",
      "Epoch 21/30\n",
      "1000/1000 [==============================] - 582s 582ms/step - loss: 0.1705 - accuracy: 0.9292 - val_loss: 0.1877 - val_accuracy: 0.9254\n",
      "Epoch 22/30\n",
      "1000/1000 [==============================] - 597s 597ms/step - loss: 0.1659 - accuracy: 0.9311 - val_loss: 0.1915 - val_accuracy: 0.9236\n",
      "Epoch 23/30\n",
      "1000/1000 [==============================] - 582s 582ms/step - loss: 0.1654 - accuracy: 0.9309 - val_loss: 0.1893 - val_accuracy: 0.9256\n"
     ]
    }
   ],
   "source": [
    "history = finetune_model.fit(\n",
    "    train_generator, epochs=30, validation_data=test_generator, callbacks=[checkpoint, early_stopping])"
   ]
  },
  {
   "cell_type": "code",
   "execution_count": 9,
   "id": "44ca7007",
   "metadata": {},
   "outputs": [
    {
     "data": {
      "image/png": "[encoded data removed]",
      "text/plain": [
       "<Figure size 640x480 with 1 Axes>"
      ]
     },
     "metadata": {},
     "output_type": "display_data"
    }
   ],
   "source": [
    "y_vloss = history.history['val_loss']\n",
    "y_loss = history.history['loss']\n",
    "\n",
    "x_len = np.arange(len(y_loss))\n",
    "plt.plot(x_len, y_vloss, marker='.', c=\"red\", label='Testset_loss')\n",
    "plt.plot(x_len, y_loss, marker='.', c=\"blue\", label='Trainset_loss')\n",
    "\n",
    "plt.legend(loc='upper right')\n",
    "plt.grid()\n",
    "plt.xlabel('epoch')\n",
    "plt.ylabel('loss')\n",
    "plt.show()"
   ]
  }
 ],
 "metadata": {
  "kernelspec": {
   "display_name": "Python 3 (ipykernel)",
   "language": "python",
   "name": "python3"
  },
  "language_info": {
   "codemirror_mode": {
    "name": "ipython",
    "version": 3
   },
   "file_extension": ".py",
   "mimetype": "text/x-python",
   "name": "python",
   "nbconvert_exporter": "python",
   "pygments_lexer": "ipython3",
   "version": "3.9.17"
  }
 },
 "nbformat": 4,
 "nbformat_minor": 5
}
