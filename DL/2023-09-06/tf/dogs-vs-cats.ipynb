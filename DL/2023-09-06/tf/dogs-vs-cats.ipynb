{
 "cells": [
  {
   "cell_type": "code",
   "execution_count": 1,
   "id": "0a4573f5",
   "metadata": {},
   "outputs": [],
   "source": [
    "train_dir = 'data/dogs-vs-cats/train'\n",
    "test_dir = 'data/dogs-vs-cats/test'"
   ]
  },
  {
   "cell_type": "code",
   "execution_count": 2,
   "id": "21e03d66",
   "metadata": {},
   "outputs": [],
   "source": [
    "from tensorflow.keras import models, layers\n",
    "from tensorflow.keras.callbacks import EarlyStopping, ModelCheckpoint\n",
    "import os\n",
    "\n",
    "os.environ['KMP_DUPLICATE_LIB_OK'] = '1'"
   ]
  },
  {
   "cell_type": "code",
   "execution_count": 3,
   "id": "8ef13f07",
   "metadata": {},
   "outputs": [],
   "source": [
    "model = models.Sequential()\n",
    "model.add(layers.Conv2D(32, (3, 3), activation='relu', input_shape=[150, 150, 3]))\n",
    "model.add(layers.MaxPooling2D(2, 2))\n",
    "model.add(layers.Conv2D(64, (3, 3), activation='relu'))\n",
    "model.add(layers.MaxPooling2D(2, 2))\n",
    "model.add(layers.Conv2D(128, (3, 3), activation='relu'))\n",
    "model.add(layers.MaxPooling2D(2, 2))\n",
    "model.add(layers.Conv2D(128, (3, 3), activation='relu'))\n",
    "model.add(layers.MaxPooling2D(2, 2))\n",
    "model.add(layers.Flatten())\n",
    "model.add(layers.Dropout(0.5))\n",
    "model.add(layers.Dense(512, activation='relu'))\n",
    "model.add(layers.Dense(1, activation='sigmoid'))"
   ]
  },
  {
   "cell_type": "code",
   "execution_count": 4,
   "id": "ee2a7ffd",
   "metadata": {},
   "outputs": [
    {
     "name": "stdout",
     "output_type": "stream",
     "text": [
      "Model: \"sequential\"\n",
      "_________________________________________________________________\n",
      " Layer (type)                Output Shape              Param #   \n",
      "=================================================================\n",
      " conv2d (Conv2D)             (None, 148, 148, 32)      896       \n",
      "                                                                 \n",
      " max_pooling2d (MaxPooling2D  (None, 74, 74, 32)       0         \n",
      " )                                                               \n",
      "                                                                 \n",
      " conv2d_1 (Conv2D)           (None, 72, 72, 64)        18496     \n",
      "                                                                 \n",
      " max_pooling2d_1 (MaxPooling  (None, 36, 36, 64)       0         \n",
      " 2D)                                                             \n",
      "                                                                 \n",
      " conv2d_2 (Conv2D)           (None, 34, 34, 128)       73856     \n",
      "                                                                 \n",
      " max_pooling2d_2 (MaxPooling  (None, 17, 17, 128)      0         \n",
      " 2D)                                                             \n",
      "                                                                 \n",
      " conv2d_3 (Conv2D)           (None, 15, 15, 128)       147584    \n",
      "                                                                 \n",
      " max_pooling2d_3 (MaxPooling  (None, 7, 7, 128)        0         \n",
      " 2D)                                                             \n",
      "                                                                 \n",
      " flatten (Flatten)           (None, 6272)              0         \n",
      "                                                                 \n",
      " dropout (Dropout)           (None, 6272)              0         \n",
      "                                                                 \n",
      " dense (Dense)               (None, 512)               3211776   \n",
      "                                                                 \n",
      " dense_1 (Dense)             (None, 1)                 513       \n",
      "                                                                 \n",
      "=================================================================\n",
      "Total params: 3,453,121\n",
      "Trainable params: 3,453,121\n",
      "Non-trainable params: 0\n",
      "_________________________________________________________________\n"
     ]
    }
   ],
   "source": [
    "model.summary()"
   ]
  },
  {
   "cell_type": "code",
   "execution_count": 5,
   "id": "47eee99b",
   "metadata": {},
   "outputs": [],
   "source": [
    "model.compile(loss='binary_crossentropy', optimizer='adam', metrics=['accuracy'])"
   ]
  },
  {
   "cell_type": "code",
   "execution_count": 6,
   "id": "1c57784d",
   "metadata": {},
   "outputs": [
    {
     "name": "stdout",
     "output_type": "stream",
     "text": [
      "Found 20000 images belonging to 2 classes.\n",
      "Found 5000 images belonging to 2 classes.\n"
     ]
    }
   ],
   "source": [
    "from tensorflow.keras.preprocessing.image import ImageDataGenerator\n",
    "\n",
    "train_datagen = ImageDataGenerator(rescale=1./255)\n",
    "test_datagen = ImageDataGenerator(rescale=1./255)\n",
    "\n",
    "train_generator = train_datagen.flow_from_directory(train_dir, target_size=(150, 150), batch_size=20, class_mode='binary')\n",
    "validation_generator = test_datagen.flow_from_directory(test_dir, target_size=(150, 150), batch_size=20, class_mode='binary')"
   ]
  },
  {
   "cell_type": "code",
   "execution_count": 7,
   "id": "1a25451e",
   "metadata": {},
   "outputs": [],
   "source": [
    "early_stopping = EarlyStopping(monitor='val_loss', patience=10)\n",
    "modelpath = 'model/dogs-vs-cats.hdf5'\n",
    "checkpoint = ModelCheckpoint(filepath=modelpath, monitor='val_loss', verbos=0, save_best_only=True)"
   ]
  },
  {
   "cell_type": "code",
   "execution_count": 8,
   "id": "772fef56",
   "metadata": {},
   "outputs": [
    {
     "name": "stdout",
     "output_type": "stream",
     "text": [
      "Epoch 1/30\n",
      "1000/1000 [==============================] - 139s 137ms/step - loss: 0.6680 - accuracy: 0.5801 - val_loss: 0.6255 - val_accuracy: 0.6438\n",
      "Epoch 2/30\n",
      "1000/1000 [==============================] - 147s 147ms/step - loss: 0.5472 - accuracy: 0.7215 - val_loss: 0.4800 - val_accuracy: 0.7696\n",
      "Epoch 3/30\n",
      "1000/1000 [==============================] - 294s 294ms/step - loss: 0.4560 - accuracy: 0.7893 - val_loss: 0.6698 - val_accuracy: 0.7070\n",
      "Epoch 4/30\n",
      "1000/1000 [==============================] - 178s 177ms/step - loss: 0.3888 - accuracy: 0.8237 - val_loss: 0.3842 - val_accuracy: 0.8418\n",
      "Epoch 5/30\n",
      "1000/1000 [==============================] - 123s 123ms/step - loss: 0.3347 - accuracy: 0.8568 - val_loss: 0.3158 - val_accuracy: 0.8604\n",
      "Epoch 6/30\n",
      "1000/1000 [==============================] - 132s 131ms/step - loss: 0.2922 - accuracy: 0.8756 - val_loss: 0.2870 - val_accuracy: 0.8778\n",
      "Epoch 7/30\n",
      "1000/1000 [==============================] - 140s 140ms/step - loss: 0.2546 - accuracy: 0.8929 - val_loss: 0.2831 - val_accuracy: 0.8814\n",
      "Epoch 8/30\n",
      "1000/1000 [==============================] - 126s 126ms/step - loss: 0.2203 - accuracy: 0.9064 - val_loss: 0.2711 - val_accuracy: 0.8920\n",
      "Epoch 9/30\n",
      "1000/1000 [==============================] - 130s 130ms/step - loss: 0.1973 - accuracy: 0.9194 - val_loss: 0.2713 - val_accuracy: 0.8898\n",
      "Epoch 10/30\n",
      "1000/1000 [==============================] - 133s 133ms/step - loss: 0.1789 - accuracy: 0.9287 - val_loss: 0.2541 - val_accuracy: 0.8936\n",
      "Epoch 11/30\n",
      "1000/1000 [==============================] - 140s 140ms/step - loss: 0.1567 - accuracy: 0.9358 - val_loss: 0.2578 - val_accuracy: 0.8978\n",
      "Epoch 12/30\n",
      "1000/1000 [==============================] - 134s 134ms/step - loss: 0.1423 - accuracy: 0.9416 - val_loss: 0.2595 - val_accuracy: 0.9004\n",
      "Epoch 13/30\n",
      "1000/1000 [==============================] - 123s 123ms/step - loss: 0.1315 - accuracy: 0.9467 - val_loss: 0.2638 - val_accuracy: 0.8994\n",
      "Epoch 14/30\n",
      "1000/1000 [==============================] - 128s 128ms/step - loss: 0.1203 - accuracy: 0.9531 - val_loss: 0.2830 - val_accuracy: 0.8988\n",
      "Epoch 15/30\n",
      "1000/1000 [==============================] - 123s 122ms/step - loss: 0.1083 - accuracy: 0.9588 - val_loss: 0.3091 - val_accuracy: 0.9024\n",
      "Epoch 16/30\n",
      "1000/1000 [==============================] - 126s 126ms/step - loss: 0.1006 - accuracy: 0.9600 - val_loss: 0.2879 - val_accuracy: 0.8954\n",
      "Epoch 17/30\n",
      "1000/1000 [==============================] - 131s 131ms/step - loss: 0.0931 - accuracy: 0.9646 - val_loss: 0.2928 - val_accuracy: 0.8994\n",
      "Epoch 18/30\n",
      "1000/1000 [==============================] - 149s 149ms/step - loss: 0.0894 - accuracy: 0.9671 - val_loss: 0.2675 - val_accuracy: 0.9052\n",
      "Epoch 19/30\n",
      "1000/1000 [==============================] - 135s 135ms/step - loss: 0.0817 - accuracy: 0.9677 - val_loss: 0.3101 - val_accuracy: 0.9070\n",
      "Epoch 20/30\n",
      "1000/1000 [==============================] - 133s 132ms/step - loss: 0.0788 - accuracy: 0.9708 - val_loss: 0.3497 - val_accuracy: 0.9034\n"
     ]
    }
   ],
   "source": [
    "history = model.fit(train_generator, epochs=30, validation_data=validation_generator, callbacks=[checkpoint, early_stopping])"
   ]
  },
  {
   "cell_type": "code",
   "execution_count": 9,
   "id": "8cd16874",
   "metadata": {},
   "outputs": [
    {
     "data": {
      "image/png": "[encoded data removed]",
      "text/plain": [
       "<Figure size 640x480 with 1 Axes>"
      ]
     },
     "metadata": {},
     "output_type": "display_data"
    }
   ],
   "source": [
    "import numpy as np\n",
    "import matplotlib.pyplot as plt\n",
    "\n",
    "y_vloss = history.history['val_loss']\n",
    "y_loss = history.history['loss']\n",
    "\n",
    "x_len = np.arange(len(y_loss))\n",
    "plt.plot(x_len, y_vloss, marker='.', c=\"red\", label='Testset_loss')\n",
    "plt.plot(x_len, y_loss, marker='.', c=\"blue\", label='Trainset_loss')\n",
    "plt.legend(loc='upper right')\n",
    "plt.grid()\n",
    "plt.xlabel('epoch')\n",
    "plt.ylabel('loss')\n",
    "plt.show()"
   ]
  }
 ],
 "metadata": {
  "kernelspec": {
   "display_name": "Python 3 (ipykernel)",
   "language": "python",
   "name": "python3"
  },
  "language_info": {
   "codemirror_mode": {
    "name": "ipython",
    "version": 3
   },
   "file_extension": ".py",
   "mimetype": "text/x-python",
   "name": "python",
   "nbconvert_exporter": "python",
   "pygments_lexer": "ipython3",
   "version": "3.9.17"
  }
 },
 "nbformat": 4,
 "nbformat_minor": 5
}
