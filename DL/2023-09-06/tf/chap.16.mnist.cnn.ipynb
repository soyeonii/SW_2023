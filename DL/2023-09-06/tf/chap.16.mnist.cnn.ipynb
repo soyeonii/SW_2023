{
 "cells": [
  {
   "cell_type": "code",
   "execution_count": 1,
   "id": "5e51bf30",
   "metadata": {},
   "outputs": [],
   "source": [
    "from tensorflow.keras import models,layers\n",
    "from tensorflow.keras.callbacks import EarlyStopping\n",
    "from tensorflow.keras.datasets import mnist\n",
    "from tensorflow.keras.utils import to_categorical\n",
    "import matplotlib.pyplot as plt\n",
    "import numpy as np\n",
    "import os\n",
    "\n",
    "os.environ['KMP_DUPLICATE_LIB_OK'] = '1'"
   ]
  },
  {
   "cell_type": "code",
   "execution_count": 2,
   "id": "8454f6e6",
   "metadata": {},
   "outputs": [],
   "source": [
    "(X_train, y_train), (X_test, y_test) = mnist.load_data()"
   ]
  },
  {
   "cell_type": "code",
   "execution_count": 3,
   "id": "21ec6810",
   "metadata": {},
   "outputs": [],
   "source": [
    "X_train = X_train.reshape(X_train.shape[0], 28, 28, 1).astype(float) / 255\n",
    "X_test = X_test.reshape(X_test.shape[0], 28, 28, 1).astype(float) / 255\n",
    "y_train = to_categorical(y_train, 10)\n",
    "y_test = to_categorical(y_test, 10)"
   ]
  },
  {
   "cell_type": "code",
   "execution_count": 4,
   "id": "a7b2d8b9",
   "metadata": {},
   "outputs": [],
   "source": [
    "model = models.Sequential()\n",
    "model.add(layers.Conv2D(32, kernel_size=(3, 3), input_shape=(28, 28, 1), activation='relu'))\n",
    "model.add(layers.Conv2D(64, (3, 3), activation='relu'))\n",
    "model.add(layers.MaxPooling2D(pool_size=(2, 2)))\n",
    "model.add(layers.Dropout(0.25))\n",
    "model.add(layers.Flatten())\n",
    "model.add(layers.Dense(128, activation='relu'))\n",
    "model.add(layers.Dropout(0.5))\n",
    "model.add(layers.Dense(10, activation='softmax'))"
   ]
  },
  {
   "cell_type": "code",
   "execution_count": 5,
   "id": "7f414ebe",
   "metadata": {},
   "outputs": [
    {
     "name": "stdout",
     "output_type": "stream",
     "text": [
      "Model: \"sequential\"\n",
      "_________________________________________________________________\n",
      " Layer (type)                Output Shape              Param #   \n",
      "=================================================================\n",
      " conv2d (Conv2D)             (None, 26, 26, 32)        320       \n",
      "                                                                 \n",
      " conv2d_1 (Conv2D)           (None, 24, 24, 64)        18496     \n",
      "                                                                 \n",
      " max_pooling2d (MaxPooling2D  (None, 12, 12, 64)       0         \n",
      " )                                                               \n",
      "                                                                 \n",
      " dropout (Dropout)           (None, 12, 12, 64)        0         \n",
      "                                                                 \n",
      " flatten (Flatten)           (None, 9216)              0         \n",
      "                                                                 \n",
      " dense (Dense)               (None, 128)               1179776   \n",
      "                                                                 \n",
      " dropout_1 (Dropout)         (None, 128)               0         \n",
      "                                                                 \n",
      " dense_1 (Dense)             (None, 10)                1290      \n",
      "                                                                 \n",
      "=================================================================\n",
      "Total params: 1,199,882\n",
      "Trainable params: 1,199,882\n",
      "Non-trainable params: 0\n",
      "_________________________________________________________________\n"
     ]
    }
   ],
   "source": [
    "model.summary()"
   ]
  },
  {
   "cell_type": "code",
   "execution_count": 6,
   "id": "a24869da",
   "metadata": {},
   "outputs": [],
   "source": [
    "model.compile(loss='categorical_crossentropy', optimizer='adam', metrics=['accuracy'])\n",
    "\n",
    "early_stopping = EarlyStopping(monitor='val_loss', patience=10)"
   ]
  },
  {
   "cell_type": "code",
   "execution_count": 7,
   "id": "6d6fd066",
   "metadata": {},
   "outputs": [
    {
     "name": "stdout",
     "output_type": "stream",
     "text": [
      "Epoch 1/50\n",
      "225/225 [==============================] - 23s 99ms/step - loss: 0.3120 - accuracy: 0.9024 - val_loss: 0.0750 - val_accuracy: 0.9789\n",
      "Epoch 2/50\n",
      "225/225 [==============================] - 22s 100ms/step - loss: 0.0956 - accuracy: 0.9717 - val_loss: 0.0528 - val_accuracy: 0.9846\n",
      "Epoch 3/50\n",
      "225/225 [==============================] - 24s 105ms/step - loss: 0.0678 - accuracy: 0.9795 - val_loss: 0.0493 - val_accuracy: 0.9853\n",
      "Epoch 4/50\n",
      "225/225 [==============================] - 22s 98ms/step - loss: 0.0530 - accuracy: 0.9837 - val_loss: 0.0414 - val_accuracy: 0.9879\n",
      "Epoch 5/50\n",
      "225/225 [==============================] - 23s 103ms/step - loss: 0.0475 - accuracy: 0.9849 - val_loss: 0.0397 - val_accuracy: 0.9883\n",
      "Epoch 6/50\n",
      "225/225 [==============================] - 24s 108ms/step - loss: 0.0409 - accuracy: 0.9871 - val_loss: 0.0388 - val_accuracy: 0.9881\n",
      "Epoch 7/50\n",
      "225/225 [==============================] - 23s 103ms/step - loss: 0.0351 - accuracy: 0.9888 - val_loss: 0.0374 - val_accuracy: 0.9897\n",
      "Epoch 8/50\n",
      "225/225 [==============================] - 23s 102ms/step - loss: 0.0324 - accuracy: 0.9901 - val_loss: 0.0386 - val_accuracy: 0.9897\n",
      "Epoch 9/50\n",
      "225/225 [==============================] - 25s 110ms/step - loss: 0.0284 - accuracy: 0.9908 - val_loss: 0.0393 - val_accuracy: 0.9889\n",
      "Epoch 10/50\n",
      "225/225 [==============================] - 22s 96ms/step - loss: 0.0269 - accuracy: 0.9912 - val_loss: 0.0403 - val_accuracy: 0.9894\n",
      "Epoch 11/50\n",
      "225/225 [==============================] - 22s 100ms/step - loss: 0.0251 - accuracy: 0.9915 - val_loss: 0.0388 - val_accuracy: 0.9895\n",
      "Epoch 12/50\n",
      "225/225 [==============================] - 27s 119ms/step - loss: 0.0206 - accuracy: 0.9931 - val_loss: 0.0404 - val_accuracy: 0.9891\n",
      "Epoch 13/50\n",
      "225/225 [==============================] - 24s 106ms/step - loss: 0.0229 - accuracy: 0.9921 - val_loss: 0.0375 - val_accuracy: 0.9901\n",
      "Epoch 14/50\n",
      "225/225 [==============================] - 22s 98ms/step - loss: 0.0197 - accuracy: 0.9933 - val_loss: 0.0406 - val_accuracy: 0.9899\n",
      "Epoch 15/50\n",
      "225/225 [==============================] - 22s 97ms/step - loss: 0.0188 - accuracy: 0.9937 - val_loss: 0.0446 - val_accuracy: 0.9890\n",
      "Epoch 16/50\n",
      "225/225 [==============================] - 22s 97ms/step - loss: 0.0183 - accuracy: 0.9936 - val_loss: 0.0425 - val_accuracy: 0.9899\n",
      "Epoch 17/50\n",
      "225/225 [==============================] - 22s 98ms/step - loss: 0.0160 - accuracy: 0.9948 - val_loss: 0.0425 - val_accuracy: 0.9903\n"
     ]
    }
   ],
   "source": [
    "history = model.fit(X_train, y_train, validation_split=0.25, epochs=50, batch_size=200, callbacks=[early_stopping])"
   ]
  },
  {
   "cell_type": "code",
   "execution_count": 8,
   "id": "e1165b8b",
   "metadata": {},
   "outputs": [
    {
     "name": "stdout",
     "output_type": "stream",
     "text": [
      "313/313 [==============================] - 5s 16ms/step - loss: 0.0359 - accuracy: 0.9905\n",
      "Test Accuracy: 0.9905\n"
     ]
    }
   ],
   "source": [
    "print('Test Accuracy: %.4f' % model.evaluate(X_test, y_test)[1])"
   ]
  },
  {
   "cell_type": "code",
   "execution_count": 9,
   "id": "684b19ef",
   "metadata": {},
   "outputs": [
    {
     "data": {
      "image/png": "[encoded data removed]",
      "text/plain": [
       "<Figure size 640x480 with 1 Axes>"
      ]
     },
     "metadata": {},
     "output_type": "display_data"
    }
   ],
   "source": [
    "y_vloss = history.history['val_loss']\n",
    "y_loss = history.history['loss']\n",
    "\n",
    "x_len = np.arange(len(y_loss))\n",
    "plt.plot(x_len, y_vloss, marker='.', c=\"red\", label='Testset_loss')\n",
    "plt.plot(x_len, y_loss, marker='.', c=\"blue\", label='Trainset_loss')\n",
    "plt.legend(loc='upper right')\n",
    "plt.grid()\n",
    "plt.xlabel('epoch')\n",
    "plt.ylabel('loss')\n",
    "plt.show()"
   ]
  }
 ],
 "metadata": {
  "kernelspec": {
   "display_name": "Python 3 (ipykernel)",
   "language": "python",
   "name": "python3"
  },
  "language_info": {
   "codemirror_mode": {
    "name": "ipython",
    "version": 3
   },
   "file_extension": ".py",
   "mimetype": "text/x-python",
   "name": "python",
   "nbconvert_exporter": "python",
   "pygments_lexer": "ipython3",
   "version": "3.9.17"
  }
 },
 "nbformat": 4,
 "nbformat_minor": 5
}
