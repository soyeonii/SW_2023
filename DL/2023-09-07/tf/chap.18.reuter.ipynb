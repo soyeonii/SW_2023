{
 "cells": [
  {
   "cell_type": "code",
   "execution_count": 1,
   "id": "6e4e9a92",
   "metadata": {},
   "outputs": [],
   "source": [
    "from tensorflow.keras import models, layers\n",
    "from tensorflow.keras.utils import to_categorical\n",
    "from tensorflow.keras.preprocessing import sequence\n",
    "from tensorflow.keras.datasets import reuters\n",
    "from tensorflow.keras.callbacks import EarlyStopping\n",
    "import numpy as np\n",
    "import matplotlib.pyplot as plt\n",
    "import os\n",
    "\n",
    "os.environ['KMP_DUPLICATE_LIB_OK'] = '1'"
   ]
  },
  {
   "cell_type": "code",
   "execution_count": 2,
   "id": "e05fdba7",
   "metadata": {},
   "outputs": [
    {
     "name": "stdout",
     "output_type": "stream",
     "text": [
      "Downloading data from https://storage.googleapis.com/tensorflow/tf-keras-datasets/reuters.npz\n",
      "2110848/2110848 [==============================] - 0s 0us/step\n"
     ]
    }
   ],
   "source": [
    "(X_train, y_train), (X_test, y_test) = reuters.load_data(num_words=1000, test_split=0.2)  # 상위 1000개 rank된 단어만 가져옴\n",
    "# oov_char: Out Of Vocabulary"
   ]
  },
  {
   "cell_type": "code",
   "execution_count": 3,
   "id": "6e84a5d5",
   "metadata": {},
   "outputs": [
    {
     "data": {
      "text/plain": [
       "45"
      ]
     },
     "execution_count": 3,
     "metadata": {},
     "output_type": "execute_result"
    }
   ],
   "source": [
    "np.max(y_train)"
   ]
  },
  {
   "cell_type": "code",
   "execution_count": 4,
   "id": "9ee44d45",
   "metadata": {},
   "outputs": [
    {
     "data": {
      "text/plain": [
       "(8982,)"
      ]
     },
     "execution_count": 4,
     "metadata": {},
     "output_type": "execute_result"
    }
   ],
   "source": [
    "X_train.shape"
   ]
  },
  {
   "cell_type": "code",
   "execution_count": 5,
   "id": "8b32d5bd",
   "metadata": {},
   "outputs": [
    {
     "data": {
      "text/plain": [
       "(2246,)"
      ]
     },
     "execution_count": 5,
     "metadata": {},
     "output_type": "execute_result"
    }
   ],
   "source": [
    "X_test.shape"
   ]
  },
  {
   "cell_type": "code",
   "execution_count": 7,
   "id": "e79b472b",
   "metadata": {},
   "outputs": [
    {
     "name": "stdout",
     "output_type": "stream",
     "text": [
      "[1, 2, 2, 8, 43, 10, 447, 5, 25, 207, 270, 5, 2, 111, 16, 369, 186, 90, 67, 7, 89, 5, 19, 102, 6, 19, 124, 15, 90, 67, 84, 22, 482, 26, 7, 48, 4, 49, 8, 864, 39, 209, 154, 6, 151, 6, 83, 11, 15, 22, 155, 11, 15, 7, 48, 9, 2, 2, 504, 6, 258, 6, 272, 11, 15, 22, 134, 44, 11, 15, 16, 8, 197, 2, 90, 67, 52, 29, 209, 30, 32, 132, 6, 109, 15, 17, 12]\n"
     ]
    }
   ],
   "source": [
    "print(X_train[0])"
   ]
  },
  {
   "cell_type": "code",
   "execution_count": 8,
   "id": "8d7229fe",
   "metadata": {},
   "outputs": [],
   "source": [
    "X_train = sequence.pad_sequences(X_train, maxlen=100)\n",
    "X_test = sequence.pad_sequences(X_test, maxlen=100)"
   ]
  },
  {
   "cell_type": "code",
   "execution_count": 9,
   "id": "2e967e78",
   "metadata": {},
   "outputs": [],
   "source": [
    "y_train = to_categorical(y_train)\n",
    "y_test = to_categorical(y_test)"
   ]
  },
  {
   "cell_type": "code",
   "execution_count": 10,
   "id": "d505f65c",
   "metadata": {},
   "outputs": [
    {
     "data": {
      "text/plain": [
       "(8982, 46)"
      ]
     },
     "execution_count": 10,
     "metadata": {},
     "output_type": "execute_result"
    }
   ],
   "source": [
    "y_train.shape"
   ]
  },
  {
   "cell_type": "code",
   "execution_count": 11,
   "id": "7cf121cd",
   "metadata": {},
   "outputs": [
    {
     "data": {
      "text/plain": [
       "array([0., 0., 0., 1., 0., 0., 0., 0., 0., 0., 0., 0., 0., 0., 0., 0., 0.,\n",
       "       0., 0., 0., 0., 0., 0., 0., 0., 0., 0., 0., 0., 0., 0., 0., 0., 0.,\n",
       "       0., 0., 0., 0., 0., 0., 0., 0., 0., 0., 0., 0.], dtype=float32)"
      ]
     },
     "execution_count": 11,
     "metadata": {},
     "output_type": "execute_result"
    }
   ],
   "source": [
    "y_train[0]"
   ]
  },
  {
   "cell_type": "code",
   "execution_count": 12,
   "id": "bfc7f576",
   "metadata": {},
   "outputs": [
    {
     "name": "stdout",
     "output_type": "stream",
     "text": [
      "Model: \"sequential\"\n",
      "_________________________________________________________________\n",
      " Layer (type)                Output Shape              Param #   \n",
      "=================================================================\n",
      " embedding (Embedding)       (None, None, 100)         100000    \n",
      "                                                                 \n",
      " lstm (LSTM)                 (None, 100)               80400     \n",
      "                                                                 \n",
      " dense (Dense)               (None, 46)                4646      \n",
      "                                                                 \n",
      "=================================================================\n",
      "Total params: 185,046\n",
      "Trainable params: 185,046\n",
      "Non-trainable params: 0\n",
      "_________________________________________________________________\n"
     ]
    }
   ],
   "source": [
    "model = models.Sequential()\n",
    "model.add(layers.Embedding(1000, 100))\n",
    "model.add(layers.LSTM(100, activation='tanh'))\n",
    "model.add(layers.Dense(46, activation='softmax'))\n",
    "model.summary()"
   ]
  },
  {
   "cell_type": "markdown",
   "id": "9fc79cc8",
   "metadata": {},
   "source": [
    "((100 + 100): 입력) x (100: 출력) + 100 = 20100  \n",
    "20100 x 4 = 80400"
   ]
  },
  {
   "cell_type": "code",
   "execution_count": 13,
   "id": "5e56b31f",
   "metadata": {},
   "outputs": [],
   "source": [
    "model.compile(loss='categorical_crossentropy', optimizer='adam', metrics=['accuracy'])\n",
    "early_stopping = EarlyStopping(monitor='val_loss', patience=5)"
   ]
  },
  {
   "cell_type": "code",
   "execution_count": 14,
   "id": "4169f627",
   "metadata": {},
   "outputs": [
    {
     "name": "stdout",
     "output_type": "stream",
     "text": [
      "Epoch 1/200\n",
      "450/450 [==============================] - 23s 46ms/step - loss: 2.2237 - accuracy: 0.4405 - val_loss: 1.9457 - val_accuracy: 0.5147\n",
      "Epoch 2/200\n",
      "450/450 [==============================] - 18s 39ms/step - loss: 1.7724 - accuracy: 0.5485 - val_loss: 1.6909 - val_accuracy: 0.5766\n",
      "Epoch 3/200\n",
      "450/450 [==============================] - 17s 39ms/step - loss: 1.5822 - accuracy: 0.5944 - val_loss: 1.5789 - val_accuracy: 0.6011\n",
      "Epoch 4/200\n",
      "450/450 [==============================] - 18s 39ms/step - loss: 1.4232 - accuracy: 0.6338 - val_loss: 1.4059 - val_accuracy: 0.6354\n",
      "Epoch 5/200\n",
      "450/450 [==============================] - 17s 39ms/step - loss: 1.2432 - accuracy: 0.6801 - val_loss: 1.3204 - val_accuracy: 0.6692\n",
      "Epoch 6/200\n",
      "450/450 [==============================] - 18s 39ms/step - loss: 1.1234 - accuracy: 0.7108 - val_loss: 1.2303 - val_accuracy: 0.6870\n",
      "Epoch 7/200\n",
      "450/450 [==============================] - 18s 39ms/step - loss: 1.0227 - accuracy: 0.7425 - val_loss: 1.1833 - val_accuracy: 0.7066\n",
      "Epoch 8/200\n",
      "450/450 [==============================] - 18s 40ms/step - loss: 0.9456 - accuracy: 0.7605 - val_loss: 1.1363 - val_accuracy: 0.7128\n",
      "Epoch 9/200\n",
      "450/450 [==============================] - 18s 39ms/step - loss: 0.8679 - accuracy: 0.7789 - val_loss: 1.1509 - val_accuracy: 0.7146\n",
      "Epoch 10/200\n",
      "450/450 [==============================] - 18s 39ms/step - loss: 0.8026 - accuracy: 0.7975 - val_loss: 1.1308 - val_accuracy: 0.7257\n",
      "Epoch 11/200\n",
      "450/450 [==============================] - 18s 40ms/step - loss: 0.7385 - accuracy: 0.8147 - val_loss: 1.1678 - val_accuracy: 0.7231\n",
      "Epoch 12/200\n",
      "450/450 [==============================] - 18s 39ms/step - loss: 0.6835 - accuracy: 0.8291 - val_loss: 1.1697 - val_accuracy: 0.7222\n",
      "Epoch 13/200\n",
      "450/450 [==============================] - 18s 39ms/step - loss: 0.6307 - accuracy: 0.8427 - val_loss: 1.1861 - val_accuracy: 0.7191\n",
      "Epoch 14/200\n",
      "450/450 [==============================] - 18s 39ms/step - loss: 0.5814 - accuracy: 0.8550 - val_loss: 1.2306 - val_accuracy: 0.7159\n",
      "Epoch 15/200\n",
      "450/450 [==============================] - 18s 39ms/step - loss: 0.5314 - accuracy: 0.8668 - val_loss: 1.2631 - val_accuracy: 0.7208\n"
     ]
    }
   ],
   "source": [
    "history = model.fit(X_train, y_train, epochs=200, batch_size=20, validation_data=(X_test, y_test),\n",
    "                    callbacks=[early_stopping])"
   ]
  },
  {
   "cell_type": "code",
   "execution_count": 16,
   "id": "c4798542",
   "metadata": {},
   "outputs": [
    {
     "data": {
      "image/png": "[encoded data removed]",
      "text/plain": [
       "<Figure size 640x480 with 1 Axes>"
      ]
     },
     "metadata": {},
     "output_type": "display_data"
    }
   ],
   "source": [
    "y_vloss = history.history['val_loss']\n",
    "y_loss = history.history['loss']\n",
    "\n",
    "# 그래프로 표현해 보겠습니다.\n",
    "x_len = np.arange(len(y_loss))\n",
    "plt.plot(x_len, y_vloss, marker='.', c=\"red\", label='Testset_loss')\n",
    "plt.plot(x_len, y_loss, marker='.', c=\"blue\", label='Trainset_loss')\n",
    "\n",
    "# 그래프에 그리드를 주고 레이블을 표시하겠습니다. \n",
    "plt.legend(loc='upper right')\n",
    "plt.grid()\n",
    "plt.xlabel('epoch')\n",
    "plt.ylabel('loss')\n",
    "plt.show()"
   ]
  }
 ],
 "metadata": {
  "kernelspec": {
   "display_name": "Python 3 (ipykernel)",
   "language": "python",
   "name": "python3"
  },
  "language_info": {
   "codemirror_mode": {
    "name": "ipython",
    "version": 3
   },
   "file_extension": ".py",
   "mimetype": "text/x-python",
   "name": "python",
   "nbconvert_exporter": "python",
   "pygments_lexer": "ipython3",
   "version": "3.9.17"
  }
 },
 "nbformat": 4,
 "nbformat_minor": 5
}
