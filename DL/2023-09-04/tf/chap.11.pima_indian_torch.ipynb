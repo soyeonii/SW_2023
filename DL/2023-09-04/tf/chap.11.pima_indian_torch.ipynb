{
 "cells": [
  {
   "cell_type": "code",
   "execution_count": 1,
   "id": "3cf23399",
   "metadata": {},
   "outputs": [],
   "source": [
    "import torch\n",
    "import numpy as np\n",
    "import torch.nn as nn\n",
    "import torch.optim as optim\n",
    "from torch.utils.data import DataLoader, TensorDataset"
   ]
  },
  {
   "cell_type": "code",
   "execution_count": 2,
   "id": "5271e9bc",
   "metadata": {},
   "outputs": [],
   "source": [
    "device = (torch.device('cuda') if torch.cuda.is_available() else torch.device('cpu'))\n",
    "\n",
    "dataset_numpy = np.loadtxt('data/pima-indians-diabetes3.csv', delimiter=',', skiprows=1)\n",
    "dataset = torch.from_numpy(dataset_numpy)  # numpy -> tensor"
   ]
  },
  {
   "cell_type": "code",
   "execution_count": 3,
   "id": "9e059b5c",
   "metadata": {},
   "outputs": [],
   "source": [
    "X = dataset[:, :-1]\n",
    "y = dataset[:, -1]"
   ]
  },
  {
   "cell_type": "code",
   "execution_count": 6,
   "id": "4570e985",
   "metadata": {},
   "outputs": [
    {
     "data": {
      "text/plain": [
       "torch.Size([768, 8])"
      ]
     },
     "execution_count": 6,
     "metadata": {},
     "output_type": "execute_result"
    }
   ],
   "source": [
    "X.shape"
   ]
  },
  {
   "cell_type": "code",
   "execution_count": 7,
   "id": "2e4e805a",
   "metadata": {},
   "outputs": [
    {
     "data": {
      "text/plain": [
       "torch.Size([768])"
      ]
     },
     "execution_count": 7,
     "metadata": {},
     "output_type": "execute_result"
    }
   ],
   "source": [
    "y.shape"
   ]
  },
  {
   "cell_type": "code",
   "execution_count": 11,
   "id": "ce42cc99",
   "metadata": {},
   "outputs": [],
   "source": [
    "class Pima(nn.Module):\n",
    "    def __init__(self):\n",
    "        super(Pima, self).__init__()\n",
    "        self.hidden_linear1 = nn.Linear(8, 12)\n",
    "        self.activation = nn.ReLU()\n",
    "        self.hidden_linear2 = nn.Linear(12, 8)\n",
    "        self.hidden_linear3 = nn.Linear(8, 1)\n",
    "        self.output_activation = nn.Sigmoid()\n",
    "        \n",
    "    def forward(self, x):\n",
    "        x = self.hidden_linear1(x)\n",
    "        x = self.activation(x)\n",
    "        x = self.hidden_linear2(x)\n",
    "        x = self.activation(x)\n",
    "        x = self.hidden_linear3(x)\n",
    "        x = self.output_activation(x)\n",
    "        return x\n",
    "    \n",
    "    def predict(self, x):\n",
    "        pred = self.forward(x)\n",
    "        return 1 if pred >= 0.5 else 0"
   ]
  },
  {
   "cell_type": "code",
   "execution_count": 12,
   "id": "325ccf56",
   "metadata": {},
   "outputs": [
    {
     "data": {
      "text/plain": [
       "Pima(\n",
       "  (hidden_linear1): Linear(in_features=8, out_features=12, bias=True)\n",
       "  (activation): ReLU()\n",
       "  (hidden_linear2): Linear(in_features=12, out_features=8, bias=True)\n",
       "  (hidden_linear3): Linear(in_features=8, out_features=1, bias=True)\n",
       "  (output_activation): Sigmoid()\n",
       ")"
      ]
     },
     "execution_count": 12,
     "metadata": {},
     "output_type": "execute_result"
    }
   ],
   "source": [
    "model = Pima().to(device)\n",
    "model"
   ]
  },
  {
   "cell_type": "code",
   "execution_count": 13,
   "id": "8cf0b14e",
   "metadata": {},
   "outputs": [],
   "source": [
    "def count_parameters(model):\n",
    "    total_param = 0\n",
    "    for name, param in model.named_parameters():\n",
    "        if param.requires_grad:\n",
    "            num_param = np.prod(param.size())\n",
    "            if param.dim() > 1:\n",
    "                print(name, ':', ' x '.join(str(x) for x in list(param.size())[::-1]), '=', num_param)\n",
    "            else:\n",
    "                print(name, ':', num_param)\n",
    "                print('-' * 40)\n",
    "            total_param += num_param\n",
    "    print('total:', total_param)"
   ]
  },
  {
   "cell_type": "code",
   "execution_count": 14,
   "id": "5dd7d15e",
   "metadata": {},
   "outputs": [
    {
     "name": "stdout",
     "output_type": "stream",
     "text": [
      "hidden_linear1.weight : 8 x 12 = 96\n",
      "hidden_linear1.bias : 12\n",
      "----------------------------------------\n",
      "hidden_linear2.weight : 12 x 8 = 96\n",
      "hidden_linear2.bias : 8\n",
      "----------------------------------------\n",
      "hidden_linear3.weight : 8 x 1 = 8\n",
      "hidden_linear3.bias : 1\n",
      "----------------------------------------\n",
      "total: 221\n"
     ]
    }
   ],
   "source": [
    "count_parameters(model)"
   ]
  },
  {
   "cell_type": "code",
   "execution_count": 15,
   "id": "011d2453",
   "metadata": {},
   "outputs": [],
   "source": [
    "ds = TensorDataset(X, y)\n",
    "dataloader = DataLoader(ds, batch_size=5)\n",
    "optimizer = optim.Adam(model.parameters())\n",
    "loss_fn = nn.BCELoss()\n",
    "n_epochs = 100"
   ]
  },
  {
   "cell_type": "code",
   "execution_count": 16,
   "id": "39f8ada5",
   "metadata": {},
   "outputs": [
    {
     "name": "stdout",
     "output_type": "stream",
     "text": [
      "Epoch: 0, Loss: 0.552855\n",
      "Epoch: 1, Loss: 0.582017\n",
      "Epoch: 2, Loss: 0.602844\n",
      "Epoch: 3, Loss: 0.536760\n",
      "Epoch: 4, Loss: 0.457924\n",
      "Epoch: 5, Loss: 0.421060\n",
      "Epoch: 6, Loss: 0.403500\n",
      "Epoch: 7, Loss: 0.418680\n",
      "Epoch: 8, Loss: 0.400299\n",
      "Epoch: 9, Loss: 0.410494\n",
      "Epoch: 10, Loss: 0.385646\n",
      "Epoch: 11, Loss: 0.336411\n",
      "Epoch: 12, Loss: 0.338467\n",
      "Epoch: 13, Loss: 0.330083\n",
      "Epoch: 14, Loss: 0.337145\n",
      "Epoch: 15, Loss: 0.343161\n",
      "Epoch: 16, Loss: 0.359730\n",
      "Epoch: 17, Loss: 0.331663\n",
      "Epoch: 18, Loss: 0.340195\n",
      "Epoch: 19, Loss: 0.355880\n",
      "Epoch: 20, Loss: 0.352013\n",
      "Epoch: 21, Loss: 0.326238\n",
      "Epoch: 22, Loss: 0.321135\n",
      "Epoch: 23, Loss: 0.326424\n",
      "Epoch: 24, Loss: 0.326075\n",
      "Epoch: 25, Loss: 0.307984\n",
      "Epoch: 26, Loss: 0.303142\n",
      "Epoch: 27, Loss: 0.298601\n",
      "Epoch: 28, Loss: 0.297796\n",
      "Epoch: 29, Loss: 0.291772\n",
      "Epoch: 30, Loss: 0.301798\n",
      "Epoch: 31, Loss: 0.307468\n",
      "Epoch: 32, Loss: 0.308972\n",
      "Epoch: 33, Loss: 0.306204\n",
      "Epoch: 34, Loss: 0.315432\n",
      "Epoch: 35, Loss: 0.318187\n",
      "Epoch: 36, Loss: 0.296487\n",
      "Epoch: 37, Loss: 0.317210\n",
      "Epoch: 38, Loss: 0.326319\n",
      "Epoch: 39, Loss: 0.305122\n",
      "Epoch: 40, Loss: 0.310435\n",
      "Epoch: 41, Loss: 0.325439\n",
      "Epoch: 42, Loss: 0.326367\n",
      "Epoch: 43, Loss: 0.311840\n",
      "Epoch: 44, Loss: 0.302810\n",
      "Epoch: 45, Loss: 0.304221\n",
      "Epoch: 46, Loss: 0.330801\n",
      "Epoch: 47, Loss: 0.309783\n",
      "Epoch: 48, Loss: 0.308290\n",
      "Epoch: 49, Loss: 0.306382\n",
      "Epoch: 50, Loss: 0.314143\n",
      "Epoch: 51, Loss: 0.318162\n",
      "Epoch: 52, Loss: 0.316051\n",
      "Epoch: 53, Loss: 0.307524\n",
      "Epoch: 54, Loss: 0.308444\n",
      "Epoch: 55, Loss: 0.313925\n",
      "Epoch: 56, Loss: 0.297854\n",
      "Epoch: 57, Loss: 0.307027\n",
      "Epoch: 58, Loss: 0.305931\n",
      "Epoch: 59, Loss: 0.293974\n",
      "Epoch: 60, Loss: 0.301084\n",
      "Epoch: 61, Loss: 0.334685\n",
      "Epoch: 62, Loss: 0.306056\n",
      "Epoch: 63, Loss: 0.289914\n",
      "Epoch: 64, Loss: 0.294562\n",
      "Epoch: 65, Loss: 0.321470\n",
      "Epoch: 66, Loss: 0.288999\n",
      "Epoch: 67, Loss: 0.290450\n",
      "Epoch: 68, Loss: 0.313976\n",
      "Epoch: 69, Loss: 0.305181\n",
      "Epoch: 70, Loss: 0.285978\n",
      "Epoch: 71, Loss: 0.288861\n",
      "Epoch: 72, Loss: 0.263770\n",
      "Epoch: 73, Loss: 0.310673\n",
      "Epoch: 74, Loss: 0.277936\n",
      "Epoch: 75, Loss: 0.300070\n",
      "Epoch: 76, Loss: 0.269954\n",
      "Epoch: 77, Loss: 0.311893\n",
      "Epoch: 78, Loss: 0.306237\n",
      "Epoch: 79, Loss: 0.276407\n",
      "Epoch: 80, Loss: 0.266282\n",
      "Epoch: 81, Loss: 0.280298\n",
      "Epoch: 82, Loss: 0.290998\n",
      "Epoch: 83, Loss: 0.283325\n",
      "Epoch: 84, Loss: 0.281650\n",
      "Epoch: 85, Loss: 0.302303\n",
      "Epoch: 86, Loss: 0.276792\n",
      "Epoch: 87, Loss: 0.289163\n",
      "Epoch: 88, Loss: 0.288480\n",
      "Epoch: 89, Loss: 0.265751\n",
      "Epoch: 90, Loss: 0.288282\n",
      "Epoch: 91, Loss: 0.307471\n",
      "Epoch: 92, Loss: 0.312662\n",
      "Epoch: 93, Loss: 0.302826\n",
      "Epoch: 94, Loss: 0.310646\n",
      "Epoch: 95, Loss: 0.293598\n",
      "Epoch: 96, Loss: 0.311005\n",
      "Epoch: 97, Loss: 0.289659\n",
      "Epoch: 98, Loss: 0.288272\n",
      "Epoch: 99, Loss: 0.300308\n"
     ]
    }
   ],
   "source": [
    "for epoch in range(n_epochs):\n",
    "    for data, label in dataloader:\n",
    "        data = data.type(torch.FloatTensor)\n",
    "        out = model(data.to(device))\n",
    "        loss = loss_fn(out, label.type(torch.FloatTensor).unsqueeze(1).to(device))\n",
    "        \n",
    "        optimizer.zero_grad()\n",
    "        loss.backward()\n",
    "        optimizer.step()\n",
    "    \n",
    "    print(\"Epoch: %d, Loss: %f\" % (epoch, float(loss)))"
   ]
  },
  {
   "cell_type": "code",
   "execution_count": 18,
   "id": "7faefa7e",
   "metadata": {},
   "outputs": [
    {
     "name": "stdout",
     "output_type": "stream",
     "text": [
      "Accuracy: 0.778646\n"
     ]
    }
   ],
   "source": [
    "train_loader = DataLoader(ds)\n",
    "correct = 0\n",
    "\n",
    "with torch.no_grad():\n",
    "    for data, label in train_loader:\n",
    "        predicted = model.predict(data.type(torch.FloatTensor).to(device))\n",
    "        target = int(label[0])\n",
    "        correct += 1 if predicted == target else 0\n",
    "        \n",
    "print(\"Accuracy: %f\" % (correct / len(train_loader.dataset)))"
   ]
  }
 ],
 "metadata": {
  "kernelspec": {
   "display_name": "Python 3 (ipykernel)",
   "language": "python",
   "name": "python3"
  },
  "language_info": {
   "codemirror_mode": {
    "name": "ipython",
    "version": 3
   },
   "file_extension": ".py",
   "mimetype": "text/x-python",
   "name": "python",
   "nbconvert_exporter": "python",
   "pygments_lexer": "ipython3",
   "version": "3.9.17"
  }
 },
 "nbformat": 4,
 "nbformat_minor": 5
}
