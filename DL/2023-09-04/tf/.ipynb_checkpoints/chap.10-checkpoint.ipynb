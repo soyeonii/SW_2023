{
 "cells": [
  {
   "cell_type": "code",
   "execution_count": 1,
   "id": "19ab0ff9",
   "metadata": {},
   "outputs": [],
   "source": [
    "from tensorflow.keras import models, layers\n",
    "import numpy as np"
   ]
  },
  {
   "cell_type": "code",
   "execution_count": 2,
   "id": "e46617be",
   "metadata": {},
   "outputs": [
    {
     "data": {
      "text/plain": [
       "array([[ 1.  ,  2.88,  2.16, ...,  0.  , 60.  ,  0.  ],\n",
       "       [ 2.  ,  3.4 ,  1.88, ...,  0.  , 51.  ,  0.  ],\n",
       "       [ 2.  ,  2.76,  2.08, ...,  0.  , 59.  ,  0.  ],\n",
       "       ...,\n",
       "       [ 2.  ,  3.04,  2.08, ...,  0.  , 52.  ,  0.  ],\n",
       "       [ 2.  ,  1.96,  1.68, ...,  0.  , 79.  ,  0.  ],\n",
       "       [ 2.  ,  4.72,  3.56, ...,  0.  , 51.  ,  0.  ]])"
      ]
     },
     "execution_count": 2,
     "metadata": {},
     "output_type": "execute_result"
    }
   ],
   "source": [
    "data_set = np.loadtxt('data/ThoraricSurgery3.csv', delimiter=\",\")\n",
    "data_set"
   ]
  },
  {
   "cell_type": "code",
   "execution_count": 3,
   "id": "347cb647",
   "metadata": {},
   "outputs": [],
   "source": [
    "X = data_set[:, :16]\n",
    "y = data_set[:, 16]"
   ]
  },
  {
   "cell_type": "code",
   "execution_count": 5,
   "id": "59e0c4fa",
   "metadata": {},
   "outputs": [
    {
     "data": {
      "text/plain": [
       "array([[ 1.  ,  2.88,  2.16,  1.  ,  0.  ,  0.  ,  0.  ,  1.  ,  1.  ,\n",
       "         3.  ,  0.  ,  0.  ,  0.  ,  1.  ,  0.  , 60.  ],\n",
       "       [ 2.  ,  3.4 ,  1.88,  0.  ,  0.  ,  0.  ,  0.  ,  0.  ,  0.  ,\n",
       "         1.  ,  0.  ,  0.  ,  0.  ,  1.  ,  0.  , 51.  ],\n",
       "       [ 2.  ,  2.76,  2.08,  1.  ,  0.  ,  0.  ,  0.  ,  1.  ,  0.  ,\n",
       "         0.  ,  0.  ,  0.  ,  0.  ,  1.  ,  0.  , 59.  ]])"
      ]
     },
     "execution_count": 5,
     "metadata": {},
     "output_type": "execute_result"
    }
   ],
   "source": [
    "X[:3]"
   ]
  },
  {
   "cell_type": "code",
   "execution_count": 6,
   "id": "86fd406c",
   "metadata": {},
   "outputs": [
    {
     "data": {
      "text/plain": [
       "array([0., 0., 0.])"
      ]
     },
     "execution_count": 6,
     "metadata": {},
     "output_type": "execute_result"
    }
   ],
   "source": [
    "y[:3]"
   ]
  },
  {
   "cell_type": "code",
   "execution_count": 7,
   "id": "f4423969",
   "metadata": {},
   "outputs": [],
   "source": [
    "model = models.Sequential()\n",
    "model.add(layers.Dense(30, input_dim=16, activation='relu'))\n",
    "model.add(layers.Dense(1, activation='sigmoid'))"
   ]
  },
  {
   "cell_type": "markdown",
   "id": "107da91e",
   "metadata": {},
   "source": [
    "W = 16 x 30 = 480  \n",
    "b = 30\n",
    "\n",
    "W = 30 x 1 = 30  \n",
    "b = 1"
   ]
  },
  {
   "cell_type": "code",
   "execution_count": 8,
   "id": "b83b092a",
   "metadata": {},
   "outputs": [
    {
     "name": "stdout",
     "output_type": "stream",
     "text": [
      "Model: \"sequential\"\n",
      "_________________________________________________________________\n",
      " Layer (type)                Output Shape              Param #   \n",
      "=================================================================\n",
      " dense (Dense)               (None, 30)                510       \n",
      "                                                                 \n",
      " dense_1 (Dense)             (None, 1)                 31        \n",
      "                                                                 \n",
      "=================================================================\n",
      "Total params: 541\n",
      "Trainable params: 541\n",
      "Non-trainable params: 0\n",
      "_________________________________________________________________\n"
     ]
    }
   ],
   "source": [
    "model.summary()"
   ]
  },
  {
   "cell_type": "code",
   "execution_count": 10,
   "id": "1461a35a",
   "metadata": {},
   "outputs": [],
   "source": [
    "model.compile(loss='binary_crossentropy', optimizer='adam', metrics=['accuracy'])"
   ]
  },
  {
   "cell_type": "code",
   "execution_count": 11,
   "id": "fa550e48",
   "metadata": {},
   "outputs": [
    {
     "name": "stdout",
     "output_type": "stream",
     "text": [
      "Epoch 1/5\n",
      "30/30 [==============================] - 1s 2ms/step - loss: 17.7993 - accuracy: 0.1532\n",
      "Epoch 2/5\n",
      "30/30 [==============================] - 0s 1ms/step - loss: 5.0253 - accuracy: 0.2447 \n",
      "Epoch 3/5\n",
      "30/30 [==============================] - 0s 1ms/step - loss: 0.5980 - accuracy: 0.8468\n",
      "Epoch 4/5\n",
      "30/30 [==============================] - 0s 1ms/step - loss: 0.5543 - accuracy: 0.8511\n",
      "Epoch 5/5\n",
      "30/30 [==============================] - 0s 1ms/step - loss: 0.5238 - accuracy: 0.8511\n"
     ]
    }
   ],
   "source": [
    "history = model.fit(X, y, epochs=5, batch_size=16)"
   ]
  }
 ],
 "metadata": {
  "kernelspec": {
   "display_name": "Python 3 (ipykernel)",
   "language": "python",
   "name": "python3"
  },
  "language_info": {
   "codemirror_mode": {
    "name": "ipython",
    "version": 3
   },
   "file_extension": ".py",
   "mimetype": "text/x-python",
   "name": "python",
   "nbconvert_exporter": "python",
   "pygments_lexer": "ipython3",
   "version": "3.9.17"
  }
 },
 "nbformat": 4,
 "nbformat_minor": 5
}
