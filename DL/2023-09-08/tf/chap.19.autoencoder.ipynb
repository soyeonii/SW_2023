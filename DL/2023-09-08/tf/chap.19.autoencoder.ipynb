{
 "cells": [
  {
   "cell_type": "code",
   "execution_count": 1,
   "id": "b29614b7",
   "metadata": {},
   "outputs": [],
   "source": [
    "from tensorflow.keras.datasets import mnist\n",
    "from tensorflow.keras import models, layers\n",
    "import matplotlib.pyplot as plt\n",
    "import numpy as np\n",
    "import os\n",
    "\n",
    "os.environ['KMP_DUPLICATE_LIB_OK'] = '1'"
   ]
  },
  {
   "cell_type": "code",
   "execution_count": 2,
   "id": "5c62bcb9",
   "metadata": {},
   "outputs": [],
   "source": [
    "(X_train, _), (X_test, _) = mnist.load_data()"
   ]
  },
  {
   "cell_type": "code",
   "execution_count": 4,
   "id": "61ba80f1",
   "metadata": {},
   "outputs": [],
   "source": [
    "X_train = X_train.reshape(X_train.shape[0], 28, 28, 1).astype(float) / 255\n",
    "X_test = X_test.reshape(X_test.shape[0], 28, 28, 1).astype(float) / 255"
   ]
  },
  {
   "cell_type": "code",
   "execution_count": 5,
   "id": "366ff284",
   "metadata": {},
   "outputs": [
    {
     "name": "stdout",
     "output_type": "stream",
     "text": [
      "Model: \"sequential\"\n",
      "_________________________________________________________________\n",
      " Layer (type)                Output Shape              Param #   \n",
      "=================================================================\n",
      " conv2d (Conv2D)             (None, 28, 28, 16)        160       \n",
      "                                                                 \n",
      " max_pooling2d (MaxPooling2D  (None, 14, 14, 16)       0         \n",
      " )                                                               \n",
      "                                                                 \n",
      " conv2d_1 (Conv2D)           (None, 14, 14, 8)         1160      \n",
      "                                                                 \n",
      " max_pooling2d_1 (MaxPooling  (None, 7, 7, 8)          0         \n",
      " 2D)                                                             \n",
      "                                                                 \n",
      " conv2d_2 (Conv2D)           (None, 4, 4, 8)           584       \n",
      "                                                                 \n",
      " conv2d_3 (Conv2D)           (None, 4, 4, 8)           584       \n",
      "                                                                 \n",
      " up_sampling2d (UpSampling2D  (None, 8, 8, 8)          0         \n",
      " )                                                               \n",
      "                                                                 \n",
      " conv2d_4 (Conv2D)           (None, 8, 8, 8)           584       \n",
      "                                                                 \n",
      " up_sampling2d_1 (UpSampling  (None, 16, 16, 8)        0         \n",
      " 2D)                                                             \n",
      "                                                                 \n",
      " conv2d_5 (Conv2D)           (None, 14, 14, 16)        1168      \n",
      "                                                                 \n",
      " up_sampling2d_2 (UpSampling  (None, 28, 28, 16)       0         \n",
      " 2D)                                                             \n",
      "                                                                 \n",
      " conv2d_6 (Conv2D)           (None, 28, 28, 1)         145       \n",
      "                                                                 \n",
      "=================================================================\n",
      "Total params: 4,385\n",
      "Trainable params: 4,385\n",
      "Non-trainable params: 0\n",
      "_________________________________________________________________\n"
     ]
    }
   ],
   "source": [
    "autoencoder = models.Sequential()\n",
    "# 16 * (3 * 3 * 1) + 16 = 160\n",
    "autoencoder.add(layers.Conv2D(16, kernel_size=3, padding='same', input_shape=(28, 28, 1), activation='relu'))\n",
    "autoencoder.add(layers.MaxPooling2D(pool_size=2))\n",
    "# 8 * (3 * 3 * 16) + 8 = 1160\n",
    "autoencoder.add(layers.Conv2D(8, kernel_size=3, padding='same', activation='relu'))\n",
    "autoencoder.add(layers.MaxPooling2D(pool_size=2))\n",
    "# 나중에 UpSampling()하여 28x28을 만드려고 의도적으로 strides=2를 주어 4x4를 만듦\n",
    "autoencoder.add(layers.Conv2D(8, kernel_size=3, strides=2, padding='same', activation='relu'))\n",
    "autoencoder.add(layers.Conv2D(8, kernel_size=3, padding='same', activation='relu'))\n",
    "autoencoder.add(layers.UpSampling2D())\n",
    "autoencoder.add(layers.Conv2D(8, kernel_size=3, padding='same', activation='relu'))\n",
    "autoencoder.add(layers.UpSampling2D())\n",
    "autoencoder.add(layers.Conv2D(16, kernel_size=3, activation='relu'))\n",
    "autoencoder.add(layers.UpSampling2D())\n",
    "autoencoder.add(layers.Conv2D(1, kernel_size=3, padding='same', activation='sigmoid'))\n",
    "autoencoder.summary()"
   ]
  },
  {
   "cell_type": "code",
   "execution_count": 6,
   "id": "d8c5f73c",
   "metadata": {},
   "outputs": [
    {
     "name": "stdout",
     "output_type": "stream",
     "text": [
      "Epoch 1/50\n",
      "469/469 [==============================] - 102s 208ms/step - loss: 0.0429 - val_loss: 5.8722\n",
      "Epoch 2/50\n",
      "469/469 [==============================] - 72s 153ms/step - loss: 0.0040 - val_loss: 5.6333\n",
      "Epoch 3/50\n",
      "469/469 [==============================] - 64s 137ms/step - loss: 0.0040 - val_loss: 5.7401\n",
      "Epoch 4/50\n",
      "469/469 [==============================] - 69s 148ms/step - loss: 0.0040 - val_loss: 6.9610\n",
      "Epoch 5/50\n",
      "469/469 [==============================] - 90s 191ms/step - loss: 0.0039 - val_loss: 9.2812\n",
      "Epoch 6/50\n",
      "469/469 [==============================] - 566s 1s/step - loss: 0.0039 - val_loss: 13.2623\n",
      "Epoch 7/50\n",
      "469/469 [==============================] - 115s 245ms/step - loss: 0.0038 - val_loss: 14.4212\n",
      "Epoch 8/50\n",
      "469/469 [==============================] - 98s 208ms/step - loss: 0.0038 - val_loss: 13.5336\n",
      "Epoch 9/50\n",
      "469/469 [==============================] - 88s 187ms/step - loss: 0.0038 - val_loss: 13.9187\n",
      "Epoch 10/50\n",
      "469/469 [==============================] - 89s 189ms/step - loss: 0.0037 - val_loss: 16.4893\n",
      "Epoch 11/50\n",
      "469/469 [==============================] - 89s 189ms/step - loss: 0.0037 - val_loss: 20.1545\n",
      "Epoch 12/50\n",
      "469/469 [==============================] - 88s 187ms/step - loss: 0.0037 - val_loss: 22.4040\n",
      "Epoch 13/50\n",
      "469/469 [==============================] - 88s 188ms/step - loss: 0.0037 - val_loss: 23.1709\n",
      "Epoch 14/50\n",
      "469/469 [==============================] - 89s 191ms/step - loss: 0.0037 - val_loss: 24.1045\n",
      "Epoch 15/50\n",
      "469/469 [==============================] - 89s 189ms/step - loss: 0.0037 - val_loss: 24.0947\n",
      "Epoch 16/50\n",
      "469/469 [==============================] - 90s 191ms/step - loss: 0.0036 - val_loss: 27.1944\n",
      "Epoch 17/50\n",
      "469/469 [==============================] - 90s 191ms/step - loss: 0.0036 - val_loss: 29.4956\n",
      "Epoch 18/50\n",
      "469/469 [==============================] - 89s 190ms/step - loss: 0.0036 - val_loss: 32.1272\n",
      "Epoch 19/50\n",
      "469/469 [==============================] - 89s 189ms/step - loss: 0.0036 - val_loss: 35.1804\n",
      "Epoch 20/50\n",
      "469/469 [==============================] - 140s 300ms/step - loss: 0.0036 - val_loss: 37.2713\n",
      "Epoch 21/50\n",
      "469/469 [==============================] - 81s 173ms/step - loss: 0.0036 - val_loss: 39.5409\n",
      "Epoch 22/50\n",
      "469/469 [==============================] - 90s 192ms/step - loss: 0.0036 - val_loss: 40.5205\n",
      "Epoch 23/50\n",
      "469/469 [==============================] - 89s 191ms/step - loss: 0.0036 - val_loss: 40.7066\n",
      "Epoch 24/50\n",
      "469/469 [==============================] - 89s 190ms/step - loss: 0.0036 - val_loss: 40.9191\n",
      "Epoch 25/50\n",
      "469/469 [==============================] - 89s 189ms/step - loss: 0.0036 - val_loss: 39.5082\n",
      "Epoch 26/50\n",
      "469/469 [==============================] - 88s 188ms/step - loss: 0.0036 - val_loss: 38.3956\n",
      "Epoch 27/50\n",
      "469/469 [==============================] - 89s 190ms/step - loss: 0.0036 - val_loss: 36.6254\n",
      "Epoch 28/50\n",
      "469/469 [==============================] - 90s 192ms/step - loss: 0.0036 - val_loss: 36.1517\n",
      "Epoch 29/50\n",
      "469/469 [==============================] - 91s 194ms/step - loss: 0.0036 - val_loss: 35.0494\n",
      "Epoch 30/50\n",
      "469/469 [==============================] - 91s 195ms/step - loss: 0.0036 - val_loss: 34.2353\n",
      "Epoch 31/50\n",
      "469/469 [==============================] - 94s 200ms/step - loss: 0.0036 - val_loss: 34.0320\n",
      "Epoch 32/50\n",
      "469/469 [==============================] - 90s 191ms/step - loss: 0.0036 - val_loss: 33.3676\n",
      "Epoch 33/50\n",
      "469/469 [==============================] - 90s 192ms/step - loss: 0.0036 - val_loss: 33.0653\n",
      "Epoch 34/50\n",
      "469/469 [==============================] - 91s 194ms/step - loss: 0.0036 - val_loss: 32.3947\n",
      "Epoch 35/50\n",
      "469/469 [==============================] - 90s 192ms/step - loss: 0.0036 - val_loss: 31.6744\n",
      "Epoch 36/50\n",
      "469/469 [==============================] - 93s 198ms/step - loss: 0.0036 - val_loss: 30.9372\n",
      "Epoch 37/50\n",
      "469/469 [==============================] - 91s 194ms/step - loss: 0.0036 - val_loss: 30.8650\n",
      "Epoch 38/50\n",
      "469/469 [==============================] - 92s 197ms/step - loss: 0.0036 - val_loss: 30.2048\n",
      "Epoch 39/50\n",
      "469/469 [==============================] - 687s 1s/step - loss: 0.0036 - val_loss: 29.6240\n",
      "Epoch 40/50\n",
      "469/469 [==============================] - 94s 201ms/step - loss: 0.0036 - val_loss: 29.0654\n",
      "Epoch 41/50\n",
      "469/469 [==============================] - 92s 197ms/step - loss: 0.0036 - val_loss: 28.8203\n",
      "Epoch 42/50\n",
      "469/469 [==============================] - 92s 197ms/step - loss: 0.0036 - val_loss: 28.5490\n",
      "Epoch 43/50\n",
      "469/469 [==============================] - 92s 197ms/step - loss: 0.0036 - val_loss: 27.4083\n",
      "Epoch 44/50\n",
      "469/469 [==============================] - 121s 258ms/step - loss: 0.0036 - val_loss: 27.2428\n",
      "Epoch 45/50\n",
      "469/469 [==============================] - 87s 186ms/step - loss: 0.0035 - val_loss: 26.4253\n",
      "Epoch 46/50\n",
      "469/469 [==============================] - 88s 187ms/step - loss: 0.0035 - val_loss: 25.8833\n",
      "Epoch 47/50\n",
      "469/469 [==============================] - 87s 186ms/step - loss: 0.0035 - val_loss: 25.5293\n",
      "Epoch 48/50\n",
      "469/469 [==============================] - 91s 193ms/step - loss: 0.0035 - val_loss: 24.4702\n",
      "Epoch 49/50\n",
      "469/469 [==============================] - 90s 191ms/step - loss: 0.0035 - val_loss: 24.4340\n",
      "Epoch 50/50\n",
      "469/469 [==============================] - 88s 187ms/step - loss: 0.0035 - val_loss: 23.7645\n"
     ]
    },
    {
     "data": {
      "text/plain": [
       "<keras.callbacks.History at 0x24b8ccf0fd0>"
      ]
     },
     "execution_count": 6,
     "metadata": {},
     "output_type": "execute_result"
    }
   ],
   "source": [
    "autoencoder.compile(loss='binary_crossentropy', optimizer='adam')\n",
    "autoencoder.fit(X_train, X_train, epochs=50, batch_size=128, validation_data=(X_test, X_test))"
   ]
  },
  {
   "cell_type": "code",
   "execution_count": 9,
   "id": "81013d00",
   "metadata": {},
   "outputs": [
    {
     "name": "stdout",
     "output_type": "stream",
     "text": [
      "313/313 [==============================] - 1s 2ms/step\n"
     ]
    },
    {
     "data": {
      "image/png": "[encoded data removed]",
      "text/plain": [
       "<Figure size 700x200 with 10 Axes>"
      ]
     },
     "metadata": {},
     "output_type": "display_data"
    }
   ],
   "source": [
    "random_test = np.random.randint(X_test.shape[0], size=5)\n",
    "ae_imgs = autoencoder.predict(X_test)\n",
    "\n",
    "plt.figure(figsize=(7, 2))\n",
    "\n",
    "for i, image_idx in enumerate(random_test):\n",
    "    ax = plt.subplot(2, 7, i+1)\n",
    "    plt.imshow(X_test[image_idx].reshape(28, 28))\n",
    "    ax.axis('off')\n",
    "    ax = plt.subplot(2, 7, 7+i+1)\n",
    "    plt.imshow(ae_imgs[image_idx].reshape(28, 28))\n",
    "    ax.axis('off')\n",
    "    \n",
    "plt.show()"
   ]
  }
 ],
 "metadata": {
  "kernelspec": {
   "display_name": "Python 3 (ipykernel)",
   "language": "python",
   "name": "python3"
  },
  "language_info": {
   "codemirror_mode": {
    "name": "ipython",
    "version": 3
   },
   "file_extension": ".py",
   "mimetype": "text/x-python",
   "name": "python",
   "nbconvert_exporter": "python",
   "pygments_lexer": "ipython3",
   "version": "3.9.17"
  }
 },
 "nbformat": 4,
 "nbformat_minor": 5
}
