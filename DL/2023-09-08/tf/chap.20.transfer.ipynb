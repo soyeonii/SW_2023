{
 "cells": [
  {
   "cell_type": "code",
   "execution_count": 1,
   "id": "9fab40d5",
   "metadata": {},
   "outputs": [],
   "source": [
    "from tensorflow.keras import models, layers, optimizers\n",
    "from tensorflow.keras.preprocessing.image import ImageDataGenerator\n",
    "from tensorflow.keras.callbacks import EarlyStopping\n",
    "from tensorflow.keras.applications import VGG16\n",
    "import numpy as np\n",
    "import matplotlib.pyplot as plt\n",
    "import os\n",
    "\n",
    "os.environ['KMP_DUPLICATE_LIB_OK'] = '1'"
   ]
  },
  {
   "cell_type": "code",
   "execution_count": 2,
   "id": "94644041",
   "metadata": {},
   "outputs": [
    {
     "name": "stdout",
     "output_type": "stream",
     "text": [
      "Found 160 images belonging to 2 classes.\n",
      "Found 120 images belonging to 2 classes.\n"
     ]
    }
   ],
   "source": [
    "BATCH_SIZE = 5\n",
    "train_datagen = ImageDataGenerator(\n",
    "    rescale=1./255,\n",
    "    horizontal_flip = True,\n",
    "    width_shift_range=0.1,\n",
    "    height_shift_range=0.1,\n",
    ")\n",
    "\n",
    "train_generator = train_datagen.flow_from_directory(\n",
    "    'data/train',\n",
    "    target_size=(150, 150),\n",
    "    batch_size=BATCH_SIZE,\n",
    "    class_mode='binary'\n",
    ")\n",
    "\n",
    "test_datagen = ImageDataGenerator(rescale=1./255)\n",
    "test_generator = test_datagen.flow_from_directory(\n",
    "    'data/test',\n",
    "    target_size=(150, 150),\n",
    "    batch_size=BATCH_SIZE,\n",
    "    class_mode='binary'\n",
    ")"
   ]
  },
  {
   "cell_type": "code",
   "execution_count": 5,
   "id": "5fbbcc5e",
   "metadata": {},
   "outputs": [
    {
     "name": "stdout",
     "output_type": "stream",
     "text": [
      "Downloading data from https://storage.googleapis.com/tensorflow/keras-applications/vgg16/vgg16_weights_tf_dim_ordering_tf_kernels_notop.h5\n",
      "58889256/58889256 [==============================] - 3s 0us/step\n",
      "Model: \"vgg16\"\n",
      "_________________________________________________________________\n",
      " Layer (type)                Output Shape              Param #   \n",
      "=================================================================\n",
      " input_1 (InputLayer)        [(None, 150, 150, 3)]     0         \n",
      "                                                                 \n",
      " block1_conv1 (Conv2D)       (None, 150, 150, 64)      1792      \n",
      "                                                                 \n",
      " block1_conv2 (Conv2D)       (None, 150, 150, 64)      36928     \n",
      "                                                                 \n",
      " block1_pool (MaxPooling2D)  (None, 75, 75, 64)        0         \n",
      "                                                                 \n",
      " block2_conv1 (Conv2D)       (None, 75, 75, 128)       73856     \n",
      "                                                                 \n",
      " block2_conv2 (Conv2D)       (None, 75, 75, 128)       147584    \n",
      "                                                                 \n",
      " block2_pool (MaxPooling2D)  (None, 37, 37, 128)       0         \n",
      "                                                                 \n",
      " block3_conv1 (Conv2D)       (None, 37, 37, 256)       295168    \n",
      "                                                                 \n",
      " block3_conv2 (Conv2D)       (None, 37, 37, 256)       590080    \n",
      "                                                                 \n",
      " block3_conv3 (Conv2D)       (None, 37, 37, 256)       590080    \n",
      "                                                                 \n",
      " block3_pool (MaxPooling2D)  (None, 18, 18, 256)       0         \n",
      "                                                                 \n",
      " block4_conv1 (Conv2D)       (None, 18, 18, 512)       1180160   \n",
      "                                                                 \n",
      " block4_conv2 (Conv2D)       (None, 18, 18, 512)       2359808   \n",
      "                                                                 \n",
      " block4_conv3 (Conv2D)       (None, 18, 18, 512)       2359808   \n",
      "                                                                 \n",
      " block4_pool (MaxPooling2D)  (None, 9, 9, 512)         0         \n",
      "                                                                 \n",
      " block5_conv1 (Conv2D)       (None, 9, 9, 512)         2359808   \n",
      "                                                                 \n",
      " block5_conv2 (Conv2D)       (None, 9, 9, 512)         2359808   \n",
      "                                                                 \n",
      " block5_conv3 (Conv2D)       (None, 9, 9, 512)         2359808   \n",
      "                                                                 \n",
      " block5_pool (MaxPooling2D)  (None, 4, 4, 512)         0         \n",
      "                                                                 \n",
      "=================================================================\n",
      "Total params: 14,714,688\n",
      "Trainable params: 0\n",
      "Non-trainable params: 14,714,688\n",
      "_________________________________________________________________\n"
     ]
    }
   ],
   "source": [
    "transfer_model = VGG16(weights='imagenet', include_top=False, input_shape=(150, 150, 3))\n",
    "transfer_model.trainable = False\n",
    "transfer_model.summary()"
   ]
  },
  {
   "cell_type": "code",
   "execution_count": 6,
   "id": "c9a7fa0d",
   "metadata": {},
   "outputs": [
    {
     "name": "stdout",
     "output_type": "stream",
     "text": [
      "Model: \"sequential\"\n",
      "_________________________________________________________________\n",
      " Layer (type)                Output Shape              Param #   \n",
      "=================================================================\n",
      " vgg16 (Functional)          (None, 4, 4, 512)         14714688  \n",
      "                                                                 \n",
      " flatten (Flatten)           (None, 8192)              0         \n",
      "                                                                 \n",
      " dense (Dense)               (None, 64)                524352    \n",
      "                                                                 \n",
      " dropout (Dropout)           (None, 64)                0         \n",
      "                                                                 \n",
      " dense_1 (Dense)             (None, 1)                 65        \n",
      "                                                                 \n",
      "=================================================================\n",
      "Total params: 15,239,105\n",
      "Trainable params: 524,417\n",
      "Non-trainable params: 14,714,688\n",
      "_________________________________________________________________\n"
     ]
    }
   ],
   "source": [
    "finetune_model = models.Sequential()\n",
    "finetune_model.add(transfer_model)\n",
    "finetune_model.add(layers.Flatten())\n",
    "finetune_model.add(layers.Dense(64, activation='relu'))\n",
    "finetune_model.add(layers.Dropout(0.5))\n",
    "finetune_model.add(layers.Dense(1, activation='sigmoid'))\n",
    "finetune_model.summary()"
   ]
  },
  {
   "cell_type": "code",
   "execution_count": 8,
   "id": "10104a72",
   "metadata": {},
   "outputs": [],
   "source": [
    "finetune_model.compile(loss='binary_crossentropy', optimizer=optimizers.Adam(learning_rate=0.0002), metrics=['accuracy'])\n",
    "early_stopping = EarlyStopping(monitor='val_loss', patience=5)"
   ]
  },
  {
   "cell_type": "code",
   "execution_count": 9,
   "id": "0eb6da4c",
   "metadata": {},
   "outputs": [
    {
     "name": "stdout",
     "output_type": "stream",
     "text": [
      "Epoch 1/100\n",
      "32/32 [==============================] - 16s 476ms/step - loss: 0.7460 - accuracy: 0.5688 - val_loss: 0.5804 - val_accuracy: 0.7833\n",
      "Epoch 2/100\n",
      "32/32 [==============================] - 7s 217ms/step - loss: 0.5437 - accuracy: 0.7563 - val_loss: 0.4836 - val_accuracy: 0.8917\n",
      "Epoch 3/100\n",
      "32/32 [==============================] - 7s 218ms/step - loss: 0.4828 - accuracy: 0.7563 - val_loss: 0.4168 - val_accuracy: 0.9083\n",
      "Epoch 4/100\n",
      "32/32 [==============================] - 7s 219ms/step - loss: 0.4534 - accuracy: 0.8313 - val_loss: 0.3769 - val_accuracy: 0.9000\n",
      "Epoch 5/100\n",
      "32/32 [==============================] - 7s 224ms/step - loss: 0.3602 - accuracy: 0.8938 - val_loss: 0.3362 - val_accuracy: 0.9167\n",
      "Epoch 6/100\n",
      "32/32 [==============================] - 7s 218ms/step - loss: 0.3063 - accuracy: 0.9250 - val_loss: 0.3036 - val_accuracy: 0.9167\n",
      "Epoch 7/100\n",
      "32/32 [==============================] - 7s 216ms/step - loss: 0.3096 - accuracy: 0.9125 - val_loss: 0.2960 - val_accuracy: 0.8917\n",
      "Epoch 8/100\n",
      "32/32 [==============================] - 7s 219ms/step - loss: 0.2897 - accuracy: 0.9187 - val_loss: 0.2748 - val_accuracy: 0.9000\n",
      "Epoch 9/100\n",
      "32/32 [==============================] - 7s 214ms/step - loss: 0.2708 - accuracy: 0.9250 - val_loss: 0.2439 - val_accuracy: 0.9417\n",
      "Epoch 10/100\n",
      "32/32 [==============================] - 7s 226ms/step - loss: 0.2438 - accuracy: 0.9000 - val_loss: 0.2500 - val_accuracy: 0.9250\n",
      "Epoch 11/100\n",
      "32/32 [==============================] - 7s 229ms/step - loss: 0.2468 - accuracy: 0.9312 - val_loss: 0.2276 - val_accuracy: 0.9167\n",
      "Epoch 12/100\n",
      "32/32 [==============================] - 7s 222ms/step - loss: 0.2122 - accuracy: 0.9375 - val_loss: 0.2177 - val_accuracy: 0.9250\n",
      "Epoch 13/100\n",
      "32/32 [==============================] - 7s 223ms/step - loss: 0.2074 - accuracy: 0.9500 - val_loss: 0.2019 - val_accuracy: 0.9500\n",
      "Epoch 14/100\n",
      "32/32 [==============================] - 7s 223ms/step - loss: 0.2269 - accuracy: 0.9250 - val_loss: 0.1913 - val_accuracy: 0.9417\n",
      "Epoch 15/100\n",
      "32/32 [==============================] - 7s 226ms/step - loss: 0.2249 - accuracy: 0.9375 - val_loss: 0.1859 - val_accuracy: 0.9250\n",
      "Epoch 16/100\n",
      "32/32 [==============================] - 7s 234ms/step - loss: 0.1967 - accuracy: 0.9438 - val_loss: 0.2282 - val_accuracy: 0.9083\n",
      "Epoch 17/100\n",
      "32/32 [==============================] - 7s 220ms/step - loss: 0.2116 - accuracy: 0.9125 - val_loss: 0.1908 - val_accuracy: 0.9417\n",
      "Epoch 18/100\n",
      "32/32 [==============================] - 7s 220ms/step - loss: 0.1727 - accuracy: 0.9375 - val_loss: 0.1542 - val_accuracy: 0.9667\n",
      "Epoch 19/100\n",
      "32/32 [==============================] - 7s 223ms/step - loss: 0.1799 - accuracy: 0.9312 - val_loss: 0.1503 - val_accuracy: 0.9583\n",
      "Epoch 20/100\n",
      "32/32 [==============================] - 7s 227ms/step - loss: 0.1884 - accuracy: 0.9375 - val_loss: 0.1519 - val_accuracy: 0.9667\n",
      "Epoch 21/100\n",
      "32/32 [==============================] - 7s 228ms/step - loss: 0.1782 - accuracy: 0.9250 - val_loss: 0.1402 - val_accuracy: 0.9667\n",
      "Epoch 22/100\n",
      "32/32 [==============================] - 7s 221ms/step - loss: 0.1549 - accuracy: 0.9812 - val_loss: 0.1519 - val_accuracy: 0.9333\n",
      "Epoch 23/100\n",
      "32/32 [==============================] - 7s 217ms/step - loss: 0.1479 - accuracy: 0.9563 - val_loss: 0.1399 - val_accuracy: 0.9583\n",
      "Epoch 24/100\n",
      "32/32 [==============================] - 7s 218ms/step - loss: 0.1397 - accuracy: 0.9563 - val_loss: 0.1319 - val_accuracy: 0.9667\n",
      "Epoch 25/100\n",
      "32/32 [==============================] - 7s 230ms/step - loss: 0.1440 - accuracy: 0.9563 - val_loss: 0.1454 - val_accuracy: 0.9417\n",
      "Epoch 26/100\n",
      "32/32 [==============================] - 7s 221ms/step - loss: 0.1095 - accuracy: 0.9688 - val_loss: 0.1290 - val_accuracy: 0.9500\n",
      "Epoch 27/100\n",
      "32/32 [==============================] - 7s 219ms/step - loss: 0.0995 - accuracy: 0.9812 - val_loss: 0.1187 - val_accuracy: 0.9667\n",
      "Epoch 28/100\n",
      "32/32 [==============================] - 7s 219ms/step - loss: 0.1542 - accuracy: 0.9312 - val_loss: 0.1379 - val_accuracy: 0.9417\n",
      "Epoch 29/100\n",
      "32/32 [==============================] - 7s 219ms/step - loss: 0.1353 - accuracy: 0.9688 - val_loss: 0.1293 - val_accuracy: 0.9500\n",
      "Epoch 30/100\n",
      "32/32 [==============================] - 7s 223ms/step - loss: 0.1177 - accuracy: 0.9688 - val_loss: 0.1683 - val_accuracy: 0.9333\n",
      "Epoch 31/100\n",
      "32/32 [==============================] - 7s 224ms/step - loss: 0.1145 - accuracy: 0.9750 - val_loss: 0.1569 - val_accuracy: 0.9333\n",
      "Epoch 32/100\n",
      "32/32 [==============================] - 7s 221ms/step - loss: 0.1624 - accuracy: 0.9438 - val_loss: 0.1734 - val_accuracy: 0.9333\n"
     ]
    }
   ],
   "source": [
    "history = finetune_model.fit(train_generator, epochs=100, validation_data=test_generator, callbacks=[early_stopping])"
   ]
  },
  {
   "cell_type": "code",
   "execution_count": 10,
   "id": "655fdd7b",
   "metadata": {},
   "outputs": [
    {
     "data": {
      "image/png": "[encoded data removed]",
      "text/plain": [
       "<Figure size 640x480 with 1 Axes>"
      ]
     },
     "metadata": {},
     "output_type": "display_data"
    }
   ],
   "source": [
    "y_vloss = history.history['val_loss']\n",
    "y_loss = history.history['loss']\n",
    "\n",
    "x_len = np.arange(len(y_loss))\n",
    "plt.plot(x_len, y_vloss, marker='.', c=\"red\", label='Testset_loss')\n",
    "plt.plot(x_len, y_loss, marker='.', c=\"blue\", label='Trainset_loss')\n",
    "\n",
    "plt.legend(loc='upper right')\n",
    "plt.grid()\n",
    "plt.xlabel('epoch')\n",
    "plt.ylabel('loss')\n",
    "plt.show()"
   ]
  }
 ],
 "metadata": {
  "kernelspec": {
   "display_name": "Python 3 (ipykernel)",
   "language": "python",
   "name": "python3"
  },
  "language_info": {
   "codemirror_mode": {
    "name": "ipython",
    "version": 3
   },
   "file_extension": ".py",
   "mimetype": "text/x-python",
   "name": "python",
   "nbconvert_exporter": "python",
   "pygments_lexer": "ipython3",
   "version": "3.9.17"
  }
 },
 "nbformat": 4,
 "nbformat_minor": 5
}
