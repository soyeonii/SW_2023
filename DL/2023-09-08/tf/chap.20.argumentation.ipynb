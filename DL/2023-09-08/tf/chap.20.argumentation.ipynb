{
 "cells": [
  {
   "cell_type": "code",
   "execution_count": 1,
   "id": "01b556fc",
   "metadata": {},
   "outputs": [],
   "source": [
    "from tensorflow.keras import models, layers, optimizers\n",
    "from tensorflow.keras.preprocessing.image import ImageDataGenerator\n",
    "from tensorflow.keras.callbacks import EarlyStopping\n",
    "import numpy as np\n",
    "import matplotlib.pyplot as plt\n",
    "import os\n",
    "\n",
    "os.environ['KMP_DUPLICATE_LIB_OK'] = '1'"
   ]
  },
  {
   "cell_type": "code",
   "execution_count": 3,
   "id": "1ccf6ac8",
   "metadata": {
    "scrolled": true
   },
   "outputs": [
    {
     "name": "stdout",
     "output_type": "stream",
     "text": [
      "Found 160 images belonging to 2 classes.\n",
      "Found 120 images belonging to 2 classes.\n"
     ]
    }
   ],
   "source": [
    "BATCH_SIZE = 5\n",
    "train_datagen = ImageDataGenerator(\n",
    "    rescale=1./255,\n",
    "    horizontal_flip = True,\n",
    "    width_shift_range=0.1,\n",
    "    height_shift_range=0.1,\n",
    ")\n",
    "\n",
    "train_generator = train_datagen.flow_from_directory(\n",
    "    'data/train',\n",
    "    target_size=(150, 150),\n",
    "    batch_size=BATCH_SIZE,\n",
    "    class_mode='binary'\n",
    ")\n",
    "\n",
    "test_datagen = ImageDataGenerator(rescale=1./255)\n",
    "test_generator = test_datagen.flow_from_directory(\n",
    "    'data/test',\n",
    "    target_size=(150, 150),\n",
    "    batch_size=BATCH_SIZE,\n",
    "    class_mode='binary'\n",
    ")"
   ]
  },
  {
   "cell_type": "code",
   "execution_count": 4,
   "id": "471f08ad",
   "metadata": {},
   "outputs": [
    {
     "name": "stdout",
     "output_type": "stream",
     "text": [
      "Model: \"sequential\"\n",
      "_________________________________________________________________\n",
      " Layer (type)                Output Shape              Param #   \n",
      "=================================================================\n",
      " conv2d (Conv2D)             (None, 148, 148, 32)      896       \n",
      "                                                                 \n",
      " max_pooling2d (MaxPooling2D  (None, 74, 74, 32)       0         \n",
      " )                                                               \n",
      "                                                                 \n",
      " conv2d_1 (Conv2D)           (None, 72, 72, 32)        9248      \n",
      "                                                                 \n",
      " max_pooling2d_1 (MaxPooling  (None, 36, 36, 32)       0         \n",
      " 2D)                                                             \n",
      "                                                                 \n",
      " conv2d_2 (Conv2D)           (None, 34, 34, 64)        18496     \n",
      "                                                                 \n",
      " max_pooling2d_2 (MaxPooling  (None, 17, 17, 64)       0         \n",
      " 2D)                                                             \n",
      "                                                                 \n",
      " flatten (Flatten)           (None, 18496)             0         \n",
      "                                                                 \n",
      " dense (Dense)               (None, 64)                1183808   \n",
      "                                                                 \n",
      " dropout (Dropout)           (None, 64)                0         \n",
      "                                                                 \n",
      " dense_1 (Dense)             (None, 1)                 65        \n",
      "                                                                 \n",
      "=================================================================\n",
      "Total params: 1,212,513\n",
      "Trainable params: 1,212,513\n",
      "Non-trainable params: 0\n",
      "_________________________________________________________________\n"
     ]
    }
   ],
   "source": [
    "model = models.Sequential()\n",
    "model.add(layers.Conv2D(32, (3, 3), input_shape=(150, 150, 3), activation='relu'))\n",
    "model.add(layers.MaxPooling2D(pool_size=(2, 2)))\n",
    "\n",
    "model.add(layers.Conv2D(32, (3, 3), activation='relu'))\n",
    "model.add(layers.MaxPooling2D(pool_size=(2, 2)))\n",
    "\n",
    "model.add(layers.Conv2D(64, (3, 3), activation='relu'))\n",
    "model.add(layers.MaxPooling2D(pool_size=(2, 2)))\n",
    "\n",
    "model.add(layers.Flatten())\n",
    "model.add(layers.Dense(64, activation='relu'))\n",
    "model.add(layers.Dropout(0.5))\n",
    "model.add(layers.Dense(1, activation='sigmoid'))\n",
    "\n",
    "model.summary()"
   ]
  },
  {
   "cell_type": "code",
   "execution_count": 5,
   "id": "34b6a038",
   "metadata": {},
   "outputs": [],
   "source": [
    "model.compile(loss='binary_crossentropy', optimizer=optimizers.Adam(learning_rate=0.0002), metrics=['accuracy'])\n",
    "early_stopping = EarlyStopping(monitor='val_loss', patience=5)"
   ]
  },
  {
   "cell_type": "code",
   "execution_count": 6,
   "id": "0cedb5ae",
   "metadata": {
    "scrolled": true
   },
   "outputs": [
    {
     "name": "stdout",
     "output_type": "stream",
     "text": [
      "Epoch 1/100\n",
      "32/32 [==============================] - 15s 426ms/step - loss: 0.7081 - accuracy: 0.4688 - val_loss: 0.6900 - val_accuracy: 0.5000\n",
      "Epoch 2/100\n",
      "32/32 [==============================] - 1s 41ms/step - loss: 0.6895 - accuracy: 0.5875 - val_loss: 0.6866 - val_accuracy: 0.5167\n",
      "Epoch 3/100\n",
      "32/32 [==============================] - 1s 36ms/step - loss: 0.6988 - accuracy: 0.4812 - val_loss: 0.6869 - val_accuracy: 0.5417\n",
      "Epoch 4/100\n",
      "32/32 [==============================] - 1s 45ms/step - loss: 0.6838 - accuracy: 0.5562 - val_loss: 0.6818 - val_accuracy: 0.8083\n",
      "Epoch 5/100\n",
      "32/32 [==============================] - 1s 39ms/step - loss: 0.6837 - accuracy: 0.5625 - val_loss: 0.6830 - val_accuracy: 0.5000\n",
      "Epoch 6/100\n",
      "32/32 [==============================] - 1s 36ms/step - loss: 0.6781 - accuracy: 0.6125 - val_loss: 0.6538 - val_accuracy: 0.8417\n",
      "Epoch 7/100\n",
      "32/32 [==============================] - 1s 40ms/step - loss: 0.6532 - accuracy: 0.6438 - val_loss: 0.6130 - val_accuracy: 0.7250\n",
      "Epoch 8/100\n",
      "32/32 [==============================] - 1s 36ms/step - loss: 0.6015 - accuracy: 0.6812 - val_loss: 0.5354 - val_accuracy: 0.8167\n",
      "Epoch 9/100\n",
      "32/32 [==============================] - 1s 45ms/step - loss: 0.5655 - accuracy: 0.7312 - val_loss: 0.5658 - val_accuracy: 0.6083\n",
      "Epoch 10/100\n",
      "32/32 [==============================] - 1s 42ms/step - loss: 0.5653 - accuracy: 0.7125 - val_loss: 0.4483 - val_accuracy: 0.8417\n",
      "Epoch 11/100\n",
      "32/32 [==============================] - 1s 37ms/step - loss: 0.5508 - accuracy: 0.7125 - val_loss: 0.4436 - val_accuracy: 0.7833\n",
      "Epoch 12/100\n",
      "32/32 [==============================] - 1s 41ms/step - loss: 0.4650 - accuracy: 0.7937 - val_loss: 0.3375 - val_accuracy: 0.9083\n",
      "Epoch 13/100\n",
      "32/32 [==============================] - 1s 36ms/step - loss: 0.4657 - accuracy: 0.7688 - val_loss: 0.4793 - val_accuracy: 0.7000\n",
      "Epoch 14/100\n",
      "32/32 [==============================] - 1s 40ms/step - loss: 0.4163 - accuracy: 0.8375 - val_loss: 0.2810 - val_accuracy: 0.9333\n",
      "Epoch 15/100\n",
      "32/32 [==============================] - 1s 41ms/step - loss: 0.3856 - accuracy: 0.8313 - val_loss: 0.2413 - val_accuracy: 0.9250\n",
      "Epoch 16/100\n",
      "32/32 [==============================] - 1s 37ms/step - loss: 0.3546 - accuracy: 0.8125 - val_loss: 0.3137 - val_accuracy: 0.8417\n",
      "Epoch 17/100\n",
      "32/32 [==============================] - 1s 40ms/step - loss: 0.3844 - accuracy: 0.8438 - val_loss: 0.2829 - val_accuracy: 0.9000\n",
      "Epoch 18/100\n",
      "32/32 [==============================] - 1s 36ms/step - loss: 0.3004 - accuracy: 0.8875 - val_loss: 0.2869 - val_accuracy: 0.8583\n",
      "Epoch 19/100\n",
      "32/32 [==============================] - 1s 45ms/step - loss: 0.3696 - accuracy: 0.8562 - val_loss: 0.1926 - val_accuracy: 0.9583\n",
      "Epoch 20/100\n",
      "32/32 [==============================] - 1s 40ms/step - loss: 0.2825 - accuracy: 0.9125 - val_loss: 0.4352 - val_accuracy: 0.7833\n",
      "Epoch 21/100\n",
      "32/32 [==============================] - 1s 37ms/step - loss: 0.3023 - accuracy: 0.8938 - val_loss: 0.1821 - val_accuracy: 0.9750\n",
      "Epoch 22/100\n",
      "32/32 [==============================] - 1s 41ms/step - loss: 0.2662 - accuracy: 0.9375 - val_loss: 0.1741 - val_accuracy: 0.9500\n",
      "Epoch 23/100\n",
      "32/32 [==============================] - 1s 36ms/step - loss: 0.2333 - accuracy: 0.9187 - val_loss: 0.1426 - val_accuracy: 0.9500\n",
      "Epoch 24/100\n",
      "32/32 [==============================] - 1s 44ms/step - loss: 0.1928 - accuracy: 0.9375 - val_loss: 0.1236 - val_accuracy: 0.9583\n",
      "Epoch 25/100\n",
      "32/32 [==============================] - 1s 37ms/step - loss: 0.1938 - accuracy: 0.9125 - val_loss: 0.1568 - val_accuracy: 0.9167\n",
      "Epoch 26/100\n",
      "32/32 [==============================] - 1s 35ms/step - loss: 0.1656 - accuracy: 0.9563 - val_loss: 0.1550 - val_accuracy: 0.9250\n",
      "Epoch 27/100\n",
      "32/32 [==============================] - 1s 36ms/step - loss: 0.1523 - accuracy: 0.9750 - val_loss: 0.1192 - val_accuracy: 0.9583\n",
      "Epoch 28/100\n",
      "32/32 [==============================] - 1s 34ms/step - loss: 0.1659 - accuracy: 0.9250 - val_loss: 0.1722 - val_accuracy: 0.9167\n",
      "Epoch 29/100\n",
      "32/32 [==============================] - 1s 37ms/step - loss: 0.1894 - accuracy: 0.9312 - val_loss: 0.2055 - val_accuracy: 0.9167\n",
      "Epoch 30/100\n",
      "32/32 [==============================] - 1s 36ms/step - loss: 0.1879 - accuracy: 0.9312 - val_loss: 0.0956 - val_accuracy: 0.9667\n",
      "Epoch 31/100\n",
      "32/32 [==============================] - 1s 35ms/step - loss: 0.1413 - accuracy: 0.9500 - val_loss: 0.1026 - val_accuracy: 0.9667\n",
      "Epoch 32/100\n",
      "32/32 [==============================] - 1s 38ms/step - loss: 0.1095 - accuracy: 0.9688 - val_loss: 0.0720 - val_accuracy: 0.9667\n",
      "Epoch 33/100\n",
      "32/32 [==============================] - 1s 36ms/step - loss: 0.0886 - accuracy: 0.9688 - val_loss: 0.0794 - val_accuracy: 0.9750\n",
      "Epoch 34/100\n",
      "32/32 [==============================] - 1s 45ms/step - loss: 0.1209 - accuracy: 0.9438 - val_loss: 0.0739 - val_accuracy: 0.9750\n",
      "Epoch 35/100\n",
      "32/32 [==============================] - 1s 39ms/step - loss: 0.1321 - accuracy: 0.9500 - val_loss: 0.0963 - val_accuracy: 0.9583\n",
      "Epoch 36/100\n",
      "32/32 [==============================] - 1s 35ms/step - loss: 0.1513 - accuracy: 0.9375 - val_loss: 0.0788 - val_accuracy: 0.9833\n",
      "Epoch 37/100\n",
      "32/32 [==============================] - 2s 46ms/step - loss: 0.1094 - accuracy: 0.9625 - val_loss: 0.0650 - val_accuracy: 0.9667\n",
      "Epoch 38/100\n",
      "32/32 [==============================] - 1s 39ms/step - loss: 0.1278 - accuracy: 0.9625 - val_loss: 0.0808 - val_accuracy: 0.9750\n",
      "Epoch 39/100\n",
      "32/32 [==============================] - 1s 38ms/step - loss: 0.1664 - accuracy: 0.9250 - val_loss: 0.0864 - val_accuracy: 0.9833\n",
      "Epoch 40/100\n",
      "32/32 [==============================] - 1s 38ms/step - loss: 0.1421 - accuracy: 0.9500 - val_loss: 0.0768 - val_accuracy: 0.9667\n",
      "Epoch 41/100\n",
      "32/32 [==============================] - 1s 36ms/step - loss: 0.1144 - accuracy: 0.9625 - val_loss: 0.0615 - val_accuracy: 0.9667\n",
      "Epoch 42/100\n",
      "32/32 [==============================] - 1s 42ms/step - loss: 0.1085 - accuracy: 0.9625 - val_loss: 0.0610 - val_accuracy: 0.9667\n",
      "Epoch 43/100\n",
      "32/32 [==============================] - 1s 35ms/step - loss: 0.1471 - accuracy: 0.9375 - val_loss: 0.1055 - val_accuracy: 0.9500\n",
      "Epoch 44/100\n",
      "32/32 [==============================] - 1s 45ms/step - loss: 0.1251 - accuracy: 0.9563 - val_loss: 0.0600 - val_accuracy: 0.9833\n",
      "Epoch 45/100\n",
      "32/32 [==============================] - 1s 38ms/step - loss: 0.1023 - accuracy: 0.9688 - val_loss: 0.0653 - val_accuracy: 0.9667\n",
      "Epoch 46/100\n",
      "32/32 [==============================] - 1s 35ms/step - loss: 0.0723 - accuracy: 0.9812 - val_loss: 0.0625 - val_accuracy: 0.9833\n",
      "Epoch 47/100\n",
      "32/32 [==============================] - 1s 37ms/step - loss: 0.1257 - accuracy: 0.9563 - val_loss: 0.0560 - val_accuracy: 0.9750\n",
      "Epoch 48/100\n",
      "32/32 [==============================] - 1s 34ms/step - loss: 0.0958 - accuracy: 0.9688 - val_loss: 0.0856 - val_accuracy: 0.9667\n",
      "Epoch 49/100\n",
      "32/32 [==============================] - 1s 40ms/step - loss: 0.1013 - accuracy: 0.9688 - val_loss: 0.0639 - val_accuracy: 0.9750\n",
      "Epoch 50/100\n",
      "32/32 [==============================] - 1s 39ms/step - loss: 0.0702 - accuracy: 0.9875 - val_loss: 0.0516 - val_accuracy: 0.9833\n",
      "Epoch 51/100\n",
      "32/32 [==============================] - 1s 36ms/step - loss: 0.0922 - accuracy: 0.9625 - val_loss: 0.0609 - val_accuracy: 0.9833\n",
      "Epoch 52/100\n",
      "32/32 [==============================] - 1s 36ms/step - loss: 0.0763 - accuracy: 0.9688 - val_loss: 0.0571 - val_accuracy: 0.9833\n",
      "Epoch 53/100\n",
      "32/32 [==============================] - 1s 34ms/step - loss: 0.0710 - accuracy: 0.9750 - val_loss: 0.0650 - val_accuracy: 0.9833\n",
      "Epoch 54/100\n",
      "32/32 [==============================] - 1s 38ms/step - loss: 0.1314 - accuracy: 0.9563 - val_loss: 0.1215 - val_accuracy: 0.9500\n",
      "Epoch 55/100\n",
      "32/32 [==============================] - 1s 37ms/step - loss: 0.0789 - accuracy: 0.9750 - val_loss: 0.0705 - val_accuracy: 0.9833\n"
     ]
    }
   ],
   "source": [
    "history = model.fit(train_generator, epochs=100, validation_data=test_generator, callbacks=[early_stopping])"
   ]
  },
  {
   "cell_type": "code",
   "execution_count": 8,
   "id": "db67f307",
   "metadata": {},
   "outputs": [
    {
     "data": {
      "image/png": "[encoded data removed]",
      "text/plain": [
       "<Figure size 640x480 with 1 Axes>"
      ]
     },
     "metadata": {},
     "output_type": "display_data"
    }
   ],
   "source": [
    "y_vloss = history.history['val_loss']\n",
    "y_loss = history.history['loss']\n",
    "\n",
    "x_len = np.arange(len(y_loss))\n",
    "plt.plot(x_len, y_vloss, marker='.', c=\"red\", label='Testset_loss')\n",
    "plt.plot(x_len, y_loss, marker='.', c=\"blue\", label='Trainset_loss')\n",
    "\n",
    "plt.legend(loc='upper right')\n",
    "plt.grid()\n",
    "plt.xlabel('epoch')\n",
    "plt.ylabel('loss')\n",
    "plt.show()"
   ]
  }
 ],
 "metadata": {
  "kernelspec": {
   "display_name": "Python 3 (ipykernel)",
   "language": "python",
   "name": "python3"
  },
  "language_info": {
   "codemirror_mode": {
    "name": "ipython",
    "version": 3
   },
   "file_extension": ".py",
   "mimetype": "text/x-python",
   "name": "python",
   "nbconvert_exporter": "python",
   "pygments_lexer": "ipython3",
   "version": "3.9.17"
  }
 },
 "nbformat": 4,
 "nbformat_minor": 5
}
